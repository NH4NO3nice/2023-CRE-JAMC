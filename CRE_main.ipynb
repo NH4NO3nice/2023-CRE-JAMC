{
 "cells": [
  {
   "cell_type": "markdown",
   "id": "e89b18c5",
   "metadata": {},
   "source": [
    "<font size=5 face=\"华文行楷\" color=blue>导入所需函数库</font> "
   ]
  },
  {
   "cell_type": "code",
   "execution_count": 1,
   "id": "b71e840a",
   "metadata": {
    "ExecuteTime": {
     "end_time": "2022-10-15T01:32:13.839896Z",
     "start_time": "2022-10-15T01:32:13.828927Z"
    }
   },
   "outputs": [],
   "source": [
    "import os\n",
    "import copy\n",
    "import time as ti\n",
    "import numpy as np\n",
    "import pandas as pd\n",
    "from scipy import stats\n",
    "import matplotlib.pyplot as plt\n",
    "from scipy.optimize import curve_fit\n",
    "from datetime import datetime, timedelta\n",
    "from dateutil.relativedelta import relativedelta\n",
    "# 设置公式字体\n",
    "from matplotlib import rcParams\n",
    "config = {\n",
    "    \"font.family\":'Times New Roman',\n",
    "    'font.weight': 'normal',\n",
    "}\n",
    "rcParams.update(config)\n"
   ]
  },
  {
   "cell_type": "markdown",
   "id": "489d6eb5",
   "metadata": {},
   "source": [
    "<font size=5 face=\"华文行楷\" color=blue>定义函数</font> "
   ]
  },
  {
   "cell_type": "code",
   "execution_count": 2,
   "id": "dee826d1",
   "metadata": {
    "ExecuteTime": {
     "end_time": "2022-10-15T01:32:33.418391Z",
     "start_time": "2022-10-15T01:32:33.360137Z"
    },
    "code_folding": [
     0
    ]
   },
   "outputs": [],
   "source": [
    "def heavy_sampling_method(data, start_time, end_time, step, function, type=0):\n",
    "    \"\"\"\n",
    "    重抽样函数（固定时间间隔的平均值）：\n",
    "    data:输入待处理数据，其必须为DataFrame数组格式，索引为datetime格式的时间(年-月-日 时:分:秒);\n",
    "    start_time:为重抽样开始时间，格式为'年-月-日 时:分:秒'，\n",
    "    end_time:为重抽样开始时间，格式为'年-月-日 时:分:秒'，\n",
    "    step:重抽样步长，需为字符串格式，eg.\"1Y/y\",\"1M/m\",“10D/d”,\"30min\",\"1H/h\",\"30S/s\";:M/m表示月，min表示分钟\n",
    "    type:设置重抽样格式，0为向后重抽样左开右闭00：30的值为(00:00,00:30],1为向后重抽样左闭右开00：30的值为[00:00,00:30)，\n",
    "                      2为向前重抽样左开右闭00：30的值为(00:30,01:00],3为向后重抽样左闭右开00：30的值为[00:30,01:00)，默认为0\n",
    "    功能：对输入的以时间为索引的DataFrame数组中的所有列数据进行重抽样处理\n",
    "    \"\"\"\n",
    "    time_begin = ti.time()  # the time of program start\n",
    "\n",
    "    # 生成重抽样时间标签，起止时间-按分钟生成时间\n",
    "    start_time = datetime.strptime(start_time, '%Y-%m-%d %H:%M:%S')  # 将开始时间转化为datetime格式\n",
    "    end_time = datetime.strptime(end_time, '%Y-%m-%d %H:%M:%S')  # 将结束时间转化为datetime格式\n",
    "    if step[-1] == 'M' or step[-1] == 'm':  # if the step is month\n",
    "        heavy_sampling_time = pd.date_range(start_time, end_time, freq=step[:-1] + 'MS')  # start month frequency\n",
    "    else:\n",
    "        heavy_sampling_time = pd.date_range(start_time, end_time, freq=step)\n",
    "    print(heavy_sampling_time)\n",
    "\n",
    "    # 将如果字符串step为月以下尺度，则将setp转换成以秒为单位\n",
    "    # 将如果字符串step为月及以上尺度，则将setp转换成以月为单位\n",
    "    if step[-1] == 'S' or step[-1] == 's':  # second\n",
    "        step_ = float(step[:-1])\n",
    "    elif step[-1] == 'n':  # minute\n",
    "        step_ = float(step[:-3]) * 60\n",
    "    elif step[-1] == 'H' or step[-1] == 'h':  # hour\n",
    "        step_ = float(step[:-1]) * 60 * 60\n",
    "    elif step[-1] == 'D' or step[-1] == 'd':  # day\n",
    "        step_ = float(step[:-1]) * 24 * 60 * 60\n",
    "    elif step[-1] == 'M' or step[-1] == 'm':  # month\n",
    "        step_ = float(step[:-1])\n",
    "    elif step[-1] == 'Y' or step[-1] == 'y':  # year\n",
    "        step_ = float(step[:-1]) * 12\n",
    "    else:\n",
    "        print('The entering step is error!')\n",
    "\n",
    "    # # 计算重抽样结果\n",
    "    heavy_sampling = pd.DataFrame([], columns=data.columns)  # 创建空DataFrame数组，方便后面添加\n",
    "    if type == 0:\n",
    "        # 计算第一个时间点的重抽样值\n",
    "        for i in range(len(heavy_sampling_time)):  # 按heavy_sampling_time循环，计算每个时间点的重抽样值\n",
    "            if i == 0:  # 对于第一个时间，需要特殊处理，获得该时次与其前step时间之间的数据\n",
    "                if step[-1] in ['S', 'n', 'H', 'D', 's', 'h', 'd']:\n",
    "                    start = heavy_sampling_time[i] + timedelta(seconds=-1 * step_)\n",
    "                elif step[-1] in ['M', 'Y', 'm', 'y']:\n",
    "                    start = heavy_sampling_time[i] + relativedelta(months=-1 * step_)\n",
    "            else:\n",
    "                start = heavy_sampling_time[i - 1]\n",
    "            end = heavy_sampling_time[i]\n",
    "            heavy_range = data.loc[start:end]\n",
    "            if len(heavy_range) > 0 and heavy_range.index[0] == start:\n",
    "                heavy_range = heavy_range.drop(heavy_range.index[0], axis=0)  # 若heavy_range第一个时间为start，则删除\n",
    "            if len(heavy_range) > 0:\n",
    "                if function == 'mean':\n",
    "                    temp = heavy_range.mean(axis=0)  # 计算平均值\n",
    "                elif function == 'sum':\n",
    "                    temp = heavy_range.sum(axis=0)  # 计算和\n",
    "                heavy_sampling.loc[heavy_sampling_time[i]] = temp\n",
    "                # # 重抽样计时\n",
    "                time_new = ti.time()\n",
    "                print('重抽样计算:' + str(heavy_sampling_time[i])[:19] + '  用时:' + str(time_new - time_begin) + 's')\n",
    "\n",
    "    if type == 1:\n",
    "        # 计算第一个时间点的重抽样值\n",
    "        for i in range(len(heavy_sampling_time)):  # 按heavy_sampling_time循环，计算每个时间点的重抽样值\n",
    "            if i == 0:  # 对于第一个时间，需要特殊处理，获得该时次与其前step时间之间的数据\n",
    "                if step[-1] in ['S', 'n', 'H', 'D', 's', 'h', 'd']:\n",
    "                    start = heavy_sampling_time[i] + timedelta(seconds=-1 * step_)\n",
    "                elif step[-1] in ['M', 'Y', 'm', 'y']:\n",
    "                    start = heavy_sampling_time[i] + relativedelta(months=-1 * step_)\n",
    "            else:\n",
    "                start = heavy_sampling_time[i - 1]\n",
    "            end = heavy_sampling_time[i]\n",
    "            heavy_range = data.loc[start:end]\n",
    "            if len(heavy_range) > 0 and heavy_range.index[-1] == end:\n",
    "                heavy_range = heavy_range.drop(heavy_range.index[-1], axis=0)  # 若heavy_range第一个时间为start，则删除\n",
    "            if len(heavy_range) > 0:\n",
    "                if function == 'mean':\n",
    "                    temp = heavy_range.mean(axis=0)  # 计算平均值\n",
    "                elif function == 'sum':\n",
    "                    temp = heavy_range.sum(axis=0)  # 计算和\n",
    "                heavy_sampling.loc[heavy_sampling_time[i]] = temp\n",
    "                # # 重抽样计时\n",
    "                time_new = ti.time()\n",
    "                print('重抽样计算:' + str(heavy_sampling_time[i])[:19] + '  用时:' + str(time_new - time_begin) + 's')\n",
    "\n",
    "    if type == 2:\n",
    "        for i in range(len(heavy_sampling_time)):  # 按heavy_sampling_time循环，计算每个时间点的重抽样值\n",
    "            start = heavy_sampling_time[i]\n",
    "            if i == len(heavy_sampling_time) - 1:  # 对于第一个时间，需要特殊处理，获得该时次与其前step时间之间的数据\n",
    "                if step[-1] in ['S', 'n', 'H', 'D', 's', 'h', 'd']:\n",
    "                    end = heavy_sampling_time[i] + timedelta(seconds=step_)\n",
    "                elif step[-1] in ['M', 'Y', 'm', 'y']:\n",
    "                    end = heavy_sampling_time[i] + relativedelta(months=step_)\n",
    "            else:\n",
    "                end = heavy_sampling_time[i + 1]\n",
    "            heavy_range = data.loc[start:end]\n",
    "            if len(heavy_range) > 0 and heavy_range.index[0] == start:\n",
    "                heavy_range = heavy_range.drop(heavy_range.index[0], axis=0)  # 若heavy_range最后时间为end，则删除\n",
    "            if len(heavy_range) > 0:\n",
    "                if function == 'mean':\n",
    "                    temp = heavy_range.mean(axis=0)  # 计算平均值\n",
    "                elif function == 'sum':\n",
    "                    temp = heavy_range.sum(axis=0)  # 计算和\n",
    "                heavy_sampling.loc[heavy_sampling_time[i]] = temp\n",
    "                # # 重抽样计时\n",
    "                time_new = ti.time()\n",
    "                print('重抽样计算:' + str(heavy_sampling_time[i])[:19] + '  用时:' + str(time_new - time_begin) + 's')\n",
    "\n",
    "    if type == 3:\n",
    "        for i in range(len(heavy_sampling_time)):  # 按heavy_sampling_time循环，计算每个时间点的重抽样值\n",
    "            start = heavy_sampling_time[i]\n",
    "            if i == len(heavy_sampling_time) - 1:  # 对于最后一个时间，需要特殊处理，获得该时次与其前step时间之间的数据\n",
    "                if step[-1] in ['S', 'n', 'H', 'D', 's', 'h', 'd']:\n",
    "                    end = heavy_sampling_time[i] + timedelta(seconds=step_)\n",
    "                elif step[-1] in ['M', 'Y', 'm', 'y']:\n",
    "                    end = heavy_sampling_time[i] + relativedelta(months=step_)\n",
    "            else:\n",
    "                end = heavy_sampling_time[i + 1]\n",
    "            heavy_range = data.loc[start:end]\n",
    "            if len(heavy_range) > 0 and heavy_range.index[-1] == end:\n",
    "                heavy_range = heavy_range.drop(heavy_range.index[-1], axis=0)  # 若heavy_range最后时间为end，则删除\n",
    "            if len(heavy_range) > 0:\n",
    "                if function == 'mean':\n",
    "                    temp = heavy_range.mean(axis=0)  # 计算平均值\n",
    "                elif function == 'sum':\n",
    "                    heavy_range = heavy_range\n",
    "                    temp = heavy_range.sum(axis=0)  # 计算和\n",
    "                elif function == 'sum-solar':\n",
    "                    heavy_range = heavy_range * 1800  # 计算辐射日总量用到的\n",
    "                    temp = heavy_range.sum(axis=0)  # 计算和\n",
    "                heavy_sampling.loc[heavy_sampling_time[i]] = temp\n",
    "                # # 重抽样计时\n",
    "                time_new = ti.time()\n",
    "                print('重抽样计算:' + str(heavy_sampling_time[i])[:19] + '  用时:' + str(time_new - time_begin) + 's')\n",
    "    return heavy_sampling\n",
    "\n",
    "def del_data_3sigma(data):\n",
    "    \"\"\"将原始数据标准化处理之后，将标准化后绝对值大于3的即为nan\n",
    "       输入的原始数据仅为一个一维数组\"\"\"\n",
    "    # # 以3倍标准差为标准剔除野点\n",
    "    # 标准化处理\n",
    "    try:  # 处理pandas数组\n",
    "        data_standard = (data - data.mean(axis=0)) / data.std(axis=0)\n",
    "         # 剔除方差绝对值大于3.0的数据，记录为NAN\n",
    "        data.iloc[data_standard.abs() >= 3.0] = np.nan\n",
    "    except:  # 处理numpy数组\n",
    "        data = np.array(data)\n",
    "        data_standard = (data - np.mean(data, axis=0)) / np.std(data, axis=0)\n",
    "        # 剔除方差绝对值大于3.0的数据，记录为NAN\n",
    "        data[np.abs(data_standard) >= 3.0] = np.nan\n",
    "    return data\n",
    "\n",
    "def get_Innermost_file(outer_filename, Innermost_file_suffix):\n",
    "    \"\"\"获取文件夹最内层的数据文件，主要用于多层文件嵌套时\n",
    "        outer_filename：最外层文件夹名(地址)'...\\\\'\n",
    "        Innermost_file_suffix：最内层数据文件的后缀名\"\"\"\n",
    "    files = [outer_filename + x for x in os.listdir(outer_filename)]  # 获取第一层文件夹内的文件名，并补全地址\n",
    "    while True:\n",
    "        if Innermost_file_suffix in [x[-4:] for x in files]:\n",
    "            break\n",
    "        else:\n",
    "            files = [x + '\\\\' for x in files]  # 在末尾加上'\\\\'\n",
    "            temp = []\n",
    "            for file in files:\n",
    "                temp = temp + [file + x for x in os.listdir(file)]\n",
    "            files = temp\n",
    "    return files\n",
    "\n",
    "def get_hourdata(data, var):\n",
    "    \"\"\"提取一天24小时每半小时的数据，var：指定某个物理量\"\"\"\n",
    "    data_day = pd.DataFrame([], index=pd.date_range(str(data.index[0])[:10], str(data.index[-1])[:10], freq='1d'))\n",
    "\n",
    "    for hour in range(24):\n",
    "        for minute in [0, 30]:\n",
    "            temp1 = data[var].loc[data.index.hour == hour]\n",
    "            temp2 = temp1.loc[temp1.index.minute == minute]\n",
    "            # 修改temp2的索引\n",
    "            temp2.index = [datetime.strptime(str(i)[:10], '%Y-%m-%d') for i in temp2.index]\n",
    "            data_day[str('%02d' % hour) + ':' + str('%02d' % minute)] = temp2\n",
    "    return data_day"
   ]
  },
  {
   "cell_type": "markdown",
   "id": "d6d481a8",
   "metadata": {},
   "source": [
    "<font size=4 face=\"华文行楷\">读取30min数据</font> "
   ]
  },
  {
   "cell_type": "code",
   "execution_count": 3,
   "id": "9d379dde",
   "metadata": {
    "ExecuteTime": {
     "end_time": "2022-10-15T01:32:34.138485Z",
     "start_time": "2022-10-15T01:32:34.090225Z"
    }
   },
   "outputs": [],
   "source": [
    "\"\"\"分别读取30min平均roof、paint、tpo、aa的辐射四分量数据\"\"\"\n",
    "path = r'C:\\Users\\NH4NO3nice\\Desktop\\2022 大创项目\\实验数据处理\\after_processing\\\\'\n",
    "roof = pd.read_feather(path + '30min-roof.feather')\n",
    "paint = pd.read_feather(path + '30min-paint.feather')\n",
    "tpo = pd.read_feather(path + '30min-tpo.feather')\n",
    "aa = pd.read_feather(path + '30min-aa.feather')\n",
    "\n",
    "# 将时间列设置成索引\n",
    "roof.index, paint.index, tpo.index, aa.index = roof.TIMESTAMP, paint.TIMESTAMP, tpo.TIMESTAMP, aa.TIMESTAMP\n",
    "# 删除原先的时间列\n",
    "roof.drop('TIMESTAMP', axis=1, inplace=True)\n",
    "paint.drop('TIMESTAMP', axis=1, inplace=True)\n",
    "tpo.drop('TIMESTAMP', axis=1, inplace=True)\n",
    "aa.drop('TIMESTAMP', axis=1, inplace=True)"
   ]
  },
  {
   "cell_type": "markdown",
   "id": "14f8bb79",
   "metadata": {},
   "source": [
    "<font size=4 face=\"华文行楷\">修正辐射四分量，线性修正y=kx+b</font>"
   ]
  },
  {
   "cell_type": "code",
   "execution_count": 4,
   "id": "e722539e",
   "metadata": {
    "ExecuteTime": {
     "end_time": "2022-10-15T01:32:34.722171Z",
     "start_time": "2022-10-15T01:32:34.702061Z"
    }
   },
   "outputs": [],
   "source": [
    "# 1行roof，2行TPO，行AA；1列DR_Avg，2列UR_Avg，3列DLR_CO_Avg，4列ULR_Co_Avg\n",
    "k = [\n",
    "    [1.021004358, 1.06031313, 0.989958756, 1.044725959],\n",
    "    [0.996471459, 0.98715201, 1.006057742, 1.011349433],\n",
    "    [0.980008387, 0.960241975, 0.988342611, 0.973291419]\n",
    "]\n",
    "b = [\n",
    "    [0.04964256, 0.146099666, 3.887674149, -15.36563886],\n",
    "    [-0.322807518, -0.097888804, -1.53859429, -3.7581688],\n",
    "    [0.070429059, 0.073376668, 4.461994657, 9.009087576]\n",
    "]\n",
    "k, b = np.array(k), np.array(b)\n",
    "roof = roof * k[0] + b[0]  # 修正roof\n",
    "# paint无修正系数\n",
    "tpo = tpo * k[1] + b[1]  # 修正tpo\n",
    "aa = aa * k[2] + b[2]  # 修正aa"
   ]
  },
  {
   "cell_type": "markdown",
   "id": "94376078",
   "metadata": {},
   "source": [
    "<font size=4 face=\"华文行楷\">计算表面温度</font>"
   ]
  },
  {
   "cell_type": "code",
   "execution_count": 5,
   "id": "e6c365d9",
   "metadata": {
    "ExecuteTime": {
     "end_time": "2022-10-15T01:32:35.288510Z",
     "start_time": "2022-10-15T01:32:35.260602Z"
    }
   },
   "outputs": [],
   "source": [
    "k = [0.9483, 0.8188, 0.9009, 0.8393]  # 比辐射率，裸露的屋顶：0.9483，白色弹性丙烯酸涂料：0.8188，白色TPO膜：0.9009，铝箔SBS沥青膜：0.8393\n",
    "si = 5.67 * 10 ** (-8)  # 斯蒂芬玻尔兹曼常数W·m-2·K-4\n",
    "tem_roof = ((roof['ULR'] - roof['DLR'] * (1 - k[0])) / (k[0] * si)) ** 0.25 - 273.15\n",
    "tem_paint = ((paint['ULR'] - paint['DLR'] * (1 - k[1])) / (k[1] * si)) ** 0.25 - 273.15\n",
    "tem_tpo = ((tpo['ULR'] - tpo['DLR'] * (1 - k[2])) / (k[2] * si)) ** 0.25 - 273.15\n",
    "tem_aa = ((aa['ULR'] - aa['DLR'] * (1 - k[3])) / (k[3] * si)) ** 0.25 - 273.15\n",
    "\n",
    "# # 质量处理\n",
    "# tem_roof.iloc[tem_roof.abs() > 50] = np.nan\n",
    "# tem_paint.iloc[tem_paint.abs() > 50] = np.nan\n",
    "# tem_tpo.iloc[tem_tpo.abs() > 50] = np.nan\n",
    "# tem_aa.iloc[tem_aa.abs() > 50] = np.nan\n",
    "\n",
    "# # 在dataframe格式的roof，paint，tpo，aa最后一列添加一列sur_tem\n",
    "roof['sur_tem'] = tem_roof\n",
    "paint['sur_tem'] = tem_paint\n",
    "tpo['sur_tem'] = tem_tpo\n",
    "aa['sur_tem'] = tem_aa"
   ]
  },
  {
   "cell_type": "markdown",
   "id": "9f8d0d96",
   "metadata": {},
   "source": [
    "<font size=4 face=\"华文行楷\">冷却效率计算</font>"
   ]
  },
  {
   "cell_type": "code",
   "execution_count": 6,
   "id": "4325045b",
   "metadata": {
    "ExecuteTime": {
     "end_time": "2022-10-15T01:32:35.833967Z",
     "start_time": "2022-10-15T01:32:35.774727Z"
    }
   },
   "outputs": [],
   "source": [
    "# # 深拷贝\n",
    "temp_roof = copy.deepcopy(roof['sur_tem'])\n",
    "temp_paint = copy.deepcopy(paint['sur_tem'])\n",
    "temp_tpo = copy.deepcopy(tpo['sur_tem'])\n",
    "temp_aa = copy.deepcopy(aa['sur_tem'])\n",
    "\n",
    "# # 冷却效率\n",
    "paint['cooling_efficiency'] = (temp_roof - temp_paint) / temp_roof * 100\n",
    "tpo['cooling_efficiency'] = (temp_roof - temp_tpo) / temp_roof * 100\n",
    "aa['cooling_efficiency'] = (temp_roof - temp_aa) / temp_roof * 100\n",
    "# # 冷却温度\n",
    "paint['cooling_temperature'] = temp_roof - temp_paint\n",
    "tpo['cooling_temperature'] = temp_roof - temp_tpo\n",
    "aa['cooling_temperature'] = temp_roof - temp_aa"
   ]
  },
  {
   "cell_type": "markdown",
   "id": "da5d78cb",
   "metadata": {},
   "source": [
    "<font size=4 face=\"华文行楷\">反照率计算</font>"
   ]
  },
  {
   "cell_type": "code",
   "execution_count": 7,
   "id": "2ae2b15f",
   "metadata": {
    "ExecuteTime": {
     "end_time": "2022-10-15T01:32:36.500649Z",
     "start_time": "2022-10-15T01:32:36.455111Z"
    }
   },
   "outputs": [],
   "source": [
    "# # 计算反照率:向上短波辐射/向下短波辐射\n",
    "# 将短波辐射值小于100的设置为nan，缺测\n",
    "roof.iloc[:, 0].iloc[roof.iloc[:, 0] < 100] = np.nan\n",
    "paint.iloc[:, 0].iloc[paint.iloc[:, 0] < 100] = np.nan\n",
    "tpo.iloc[:, 0].iloc[tpo.iloc[:, 0] < 100] = np.nan\n",
    "aa.iloc[:, 0].iloc[aa.iloc[:, 0] < 100] = np.nan\n",
    "\n",
    "roof.iloc[:, 1].iloc[roof.iloc[:, 1] < 100] = np.nan\n",
    "paint.iloc[:, 1].iloc[paint.iloc[:, 1] < 100] = np.nan\n",
    "tpo.iloc[:, 1].iloc[tpo.iloc[:, 1] < 100] = np.nan\n",
    "aa.iloc[:, 1].iloc[aa.iloc[:, 1] < 100] = np.nan\n",
    "# 将向下短波辐射DR<向上短波辐射UR时刻的DR、UR设置为nan，缺测\n",
    "roof.iloc[:, 0].loc[roof.iloc[:, 0] < roof.iloc[:, 1]] = np.nan\n",
    "paint.iloc[:, 0].loc[paint.iloc[:, 0] < paint.iloc[:, 1]] = np.nan\n",
    "tpo.iloc[:, 0].loc[tpo.iloc[:, 0] < tpo.iloc[:, 1]] = np.nan\n",
    "aa.iloc[:, 0].loc[aa.iloc[:, 0] < aa.iloc[:, 1]] = np.nan\n",
    "# 计算反照率，在dataframe格式的roof，paint，tpo，aa最后一列添加一列albedo\n",
    "roof['albedo'] = roof.iloc[:, 1] / roof.iloc[:, 0]\n",
    "paint['albedo'] = paint.iloc[:, 1] / paint.iloc[:, 0]\n",
    "tpo['albedo'] = tpo.iloc[:, 1] / tpo.iloc[:, 0]\n",
    "aa['albedo'] = aa.iloc[:, 1] / aa.iloc[:, 0]"
   ]
  },
  {
   "cell_type": "code",
   "execution_count": 9,
   "id": "0e8b616a",
   "metadata": {},
   "outputs": [],
   "source": [
    "with pd.ExcelWriter(r'C:\\Users\\NH4NO3nice\\Desktop\\2017-2020.xlsx') as f:\n",
    "    roof.to_excel(f, sheet_name='Roof', index=True, header=True)\n",
    "    paint.to_excel(f, sheet_name='AC', index=True, header=True)\n",
    "    tpo.to_excel(f, sheet_name='TPO', index=True, header=True)\n",
    "    aa.to_excel(f, sheet_name='SBS', index=True, header=True)"
   ]
  },
  {
   "cell_type": "markdown",
   "id": "43f3e326",
   "metadata": {},
   "source": [
    "<font size=4 face=\"华文行楷\">提取2017年夏季数据</font>"
   ]
  },
  {
   "cell_type": "code",
   "execution_count": 15,
   "id": "e86b798e",
   "metadata": {
    "ExecuteTime": {
     "end_time": "2022-10-15T01:46:58.431481Z",
     "start_time": "2022-10-15T01:46:58.394465Z"
    }
   },
   "outputs": [],
   "source": [
    "roof_2017 = roof.loc[roof.index.year == 2017]\n",
    "paint_2017 = paint.loc[paint.index.year == 2017]\n",
    "tpo_2017 = tpo.loc[tpo.index.year == 2017]\n",
    "aa_2017 = aa.loc[aa.index.year == 2017]"
   ]
  },
  {
   "cell_type": "code",
   "execution_count": 19,
   "id": "b9f33e39",
   "metadata": {
    "ExecuteTime": {
     "end_time": "2022-10-15T01:46:58.984060Z",
     "start_time": "2022-10-15T01:46:58.969896Z"
    }
   },
   "outputs": [],
   "source": [
    "roof_2017_summer = roof_2017.loc[roof_2017.index.month.isin([6, 7, 8])]\n",
    "paint_2017_summer = paint_2017.loc[paint_2017.index.month.isin([6, 7, 8])]\n",
    "tpo_2017_summer = tpo_2017.loc[tpo_2017.index.month.isin([6, 7, 8])]\n",
    "aa_2017_summer = aa_2017.loc[aa_2017.index.month.isin([6, 7, 8])]"
   ]
  },
  {
   "cell_type": "markdown",
   "id": "19223151",
   "metadata": {},
   "source": [
    "<font size=4 face=\"华文行楷\">提取2018-2020年数据</font>"
   ]
  },
  {
   "cell_type": "code",
   "execution_count": 16,
   "id": "cfb1b06d",
   "metadata": {
    "ExecuteTime": {
     "end_time": "2022-10-15T00:48:17.358332Z",
     "start_time": "2022-10-15T00:48:17.323258Z"
    }
   },
   "outputs": [],
   "source": [
    "roof_2018_2020 = roof.loc[roof.index.year.isin([2018, 2019, 2020])]\n",
    "paint_2018_2020 = paint.loc[paint.index.year.isin([2018, 2019, 2020])]\n",
    "tpo_2018_2020 = tpo.loc[tpo.index.year.isin([2018, 2019, 2020])]\n",
    "aa_2018_2020 = aa.loc[aa.index.year.isin([2018, 2019, 2020])]"
   ]
  },
  {
   "cell_type": "code",
   "execution_count": null,
   "id": "d1d4848e",
   "metadata": {
    "ExecuteTime": {
     "end_time": "2022-10-09T06:20:20.153710Z",
     "start_time": "2022-10-09T06:20:19.148365Z"
    },
    "collapsed": true
   },
   "outputs": [],
   "source": [
    "aa_2018_2020_summer = aa_2018_2020.loc[aa_2018_2020.index.month.isin([6, 7, 8])]\n",
    "aa_2018_2020_summer_day = aa_2018_2020_summer.loc[aa_2018_2020_summer.index.hour.isin(np.arange(7, 18))]\n",
    "aa_2018_2020_summer_day = heavy_sampling_method(aa_2018_2020_summer_day, '2018-01-01 00:00:00', '2021-01-01 00:00:00', '1D', 'mean', type=3)"
   ]
  },
  {
   "cell_type": "markdown",
   "id": "5a0d9a2a",
   "metadata": {},
   "source": [
    "<font size=4 face=\"华文行楷\">提取2017-2020年数据</font>"
   ]
  },
  {
   "cell_type": "code",
   "execution_count": 17,
   "id": "e9296b78",
   "metadata": {
    "ExecuteTime": {
     "end_time": "2022-10-09T06:10:25.593304Z",
     "start_time": "2022-10-09T06:10:25.558374Z"
    }
   },
   "outputs": [],
   "source": [
    "roof_2017_2020 = roof.loc[roof.index.year.isin([2017, 2018, 2019, 2020])]\n",
    "paint_2017_2020 = paint.loc[paint.index.year.isin([2017, 2018, 2019, 2020])]\n",
    "tpo_2017_2020 = tpo.loc[tpo.index.year.isin([2017, 2018, 2019, 2020])]\n",
    "aa_2017_2020 = aa.loc[aa.index.year.isin([2017, 2018, 2019, 2020])]"
   ]
  },
  {
   "cell_type": "code",
   "execution_count": null,
   "id": "45992add",
   "metadata": {},
   "outputs": [],
   "source": [
    "# # 日平均降温、12-14反照率平均、日总量辐射\n",
    "# 日平均降温\n",
    "a = heavy_sampling_method(roof_2017_2020, '2017-01-01 00:00:00', '2021-08-17 00:00:00', '1D', 'mean', type=3)\n",
    "b = heavy_sampling_method(paint_2017_2020, '2017-01-01 00:00:00', '2021-08-17 00:00:00', '1D', 'mean', type=3)\n",
    "c = heavy_sampling_method(tpo_2017_2020, '2017-01-01 00:00:00', '2021-08-17 00:00:00', '1D', 'mean', type=3)\n",
    "d = heavy_sampling_method(aa_2017_2020, '2017-01-01 00:00:00', '2021-08-17 00:00:00', '1D', 'mean', type=3)\n",
    "\n",
    "# 日总量辐射\n",
    "e = heavy_sampling_method(roof_2017_2020, '2017-01-01 00:00:00', '2021-08-17 00:00:00', '1D', 'sum', type=3)\n",
    "f = heavy_sampling_method(paint_2017_2020, '2017-01-01 00:00:00', '2021-08-17 00:00:00', '1D', 'sum', type=3)\n",
    "g = heavy_sampling_method(tpo_2017_2020, '2017-01-01 00:00:00', '2021-08-17 00:00:00', '1D', 'sum', type=3)\n",
    "h = heavy_sampling_method(aa_2017_2020, '2017-01-01 00:00:00', '2021-08-17 00:00:00', '1D', 'sum', type=3)\n",
    "\n",
    "# 12-14反照率平均\n",
    "i = heavy_sampling_method(roof_2017_2020.loc[roof_2017_2020.index.hour.isin([12, 13, 14])], '2017-01-01 00:00:00', '2021-08-17 00:00:00', '1D', 'mean', type=3)\n",
    "j = heavy_sampling_method(paint_2017_2020.loc[paint_2017_2020.index.hour.isin([12, 13, 14])], '2017-01-01 00:00:00', '2021-08-17 00:00:00', '1D', 'mean', type=3)\n",
    "k = heavy_sampling_method(tpo_2017_2020.loc[tpo_2017_2020.index.hour.isin([12, 13, 14])], '2017-01-01 00:00:00', '2021-08-17 00:00:00', '1D', 'mean', type=3)\n",
    "l = heavy_sampling_method(aa_2017_2020.loc[aa_2017_2020.index.hour.isin([12, 13, 14])], '2017-01-01 00:00:00', '2021-08-17 00:00:00', '1D', 'mean', type=3)\n",
    "\n",
    "m = pd.concat([e[['DR']], i[['albedo']]], axis=1)\n",
    "n = pd.concat([f[['DR']], b[['cooling_temperature']], j[['albedo']]], axis=1)\n",
    "o = pd.concat([g[['DR']], c[['cooling_temperature']], k[['albedo']]], axis=1)\n",
    "p = pd.concat([h[['DR']], d[['cooling_temperature']], l[['albedo']]], axis=1)"
   ]
  },
  {
   "cell_type": "code",
   "execution_count": 15,
   "id": "ea443e51",
   "metadata": {},
   "outputs": [],
   "source": [
    "with pd.ExcelWriter(r'C:\\Users\\NH4NO3nice\\Desktop\\2017-2020日平均.xlsx') as f:\n",
    "    m.to_excel(f, sheet_name='Roof', index=True, header=True)\n",
    "    n.to_excel(f, sheet_name='AC', index=True, header=True)\n",
    "    o.to_excel(f, sheet_name='TPO', index=True, header=True)\n",
    "    p.to_excel(f, sheet_name='SBS', index=True, header=True)"
   ]
  },
  {
   "attachments": {},
   "cell_type": "markdown",
   "id": "a8fdd72d",
   "metadata": {},
   "source": [
    "# 不同天气条件下降温效果日变化图"
   ]
  },
  {
   "cell_type": "markdown",
   "id": "bb993f96",
   "metadata": {},
   "source": [
    "## 提取一天24小时每半小时的数据"
   ]
  },
  {
   "cell_type": "code",
   "execution_count": 36,
   "id": "8bc39edd",
   "metadata": {
    "ExecuteTime": {
     "end_time": "2022-10-15T00:48:40.613843Z",
     "start_time": "2022-10-15T00:48:40.140446Z"
    }
   },
   "outputs": [],
   "source": [
    "# # 提取2017-06-28到2017-08-15的数据\n",
    "roof_2017_summer = roof_2017_summer.loc['2017-06-28':'2017-08-15']\n",
    "paint_2017_summer = paint_2017_summer.loc['2017-06-28':'2017-08-15']\n",
    "tpo_2017_summer = tpo_2017_summer.loc['2017-06-28':'2017-08-15']\n",
    "aa_2017_summer = aa_2017_summer.loc['2017-06-28':'2017-08-15']\n",
    "\n",
    "paint_2017_summer_day = get_hourdata(paint_2017_summer, 'cooling_temperature')\n",
    "tpo_2017_summer_day = get_hourdata(tpo_2017_summer, 'cooling_temperature')\n",
    "aa_2017_summer_day = get_hourdata(aa_2017_summer, 'cooling_temperature')"
   ]
  },
  {
   "cell_type": "markdown",
   "id": "e65db4a1",
   "metadata": {},
   "source": [
    "## 提取典型晴天日、多云、阴天"
   ]
  },
  {
   "cell_type": "code",
   "execution_count": 37,
   "id": "6811ab31",
   "metadata": {
    "ExecuteTime": {
     "end_time": "2022-10-15T00:48:58.572721Z",
     "start_time": "2022-10-15T00:48:56.989016Z"
    }
   },
   "outputs": [],
   "source": [
    "# # 提取并合并2017-2020年的天气和温度数据\n",
    "file_weather = r'C:\\Users\\NH4NO3nice\\Desktop\\2022 大创项目\\实验数据处理\\浦口天气.xlsx'\n",
    "weather_temperature = pd.DataFrame([])\n",
    "for year in range(2017, 2021):\n",
    "    data = pd.read_excel(file_weather, sheet_name=str(year), usecols=[0, 1, 2, 3], index_col=0, na_values='NAN')\n",
    "    weather_temperature = pd.concat([weather_temperature, data], axis=0)\n",
    "# # 修改为时间格式\n",
    "time = [datetime.strptime(i[:-3], '%Y-%m-%d') for i in weather_temperature.index[:-34]]  # 2020-09-23之后的时间与前面不一致\n",
    "time_ = pd.date_range('2020-09-24', '2020-10-27', freq='1d')\n",
    "time_ = [datetime.strptime(str(i)[:10], '%Y-%m-%d') for i in time_]\n",
    "time = time + time_\n",
    "weather_temperature.index = time\n",
    "\n",
    "sunny, cloudy, overcast = [], [], []\n",
    "for i in weather_temperature['天气']:\n",
    "    if \"晴\" in i and i not in sunny:\n",
    "        sunny.append(i)\n",
    "    elif \"多云\" in i and i not in cloudy:\n",
    "        cloudy.append(i)\n",
    "    elif \"阴\" in i and i not in overcast:\n",
    "        overcast.append(i)\n",
    "# # 获取晴、晴~多云、多云~晴的数据\n",
    "weather_temperature_sunny = weather_temperature.loc[weather_temperature['天气'].isin(sunny)]\n",
    "# # 获取多云日数据\n",
    "weather_temperature_cloudy = weather_temperature.loc[weather_temperature['天气'].isin(cloudy)]\n",
    "# # 获取多云日数据\n",
    "weather_temperature_overcast = weather_temperature.loc[weather_temperature['天气'].isin(overcast)]"
   ]
  },
  {
   "cell_type": "markdown",
   "id": "d2fac1ca",
   "metadata": {
    "ExecuteTime": {
     "end_time": "2022-08-29T06:04:49.500735Z",
     "start_time": "2022-08-29T06:04:49.487851Z"
    }
   },
   "source": [
    "## 获取高温热浪日"
   ]
  },
  {
   "cell_type": "code",
   "execution_count": 38,
   "id": "793bb930",
   "metadata": {
    "ExecuteTime": {
     "end_time": "2022-10-15T00:48:59.682901Z",
     "start_time": "2022-10-15T00:48:59.665915Z"
    }
   },
   "outputs": [],
   "source": [
    "heat_wave = weather_temperature.loc[weather_temperature['最高温'] >= 35]"
   ]
  },
  {
   "attachments": {},
   "cell_type": "markdown",
   "id": "e8606867",
   "metadata": {
    "ExecuteTime": {
     "end_time": "2022-08-29T06:12:05.312749Z",
     "start_time": "2022-08-29T06:12:05.307719Z"
    }
   },
   "source": [
    "## 获取高温热浪、晴天、多云、阴天日的数据"
   ]
  },
  {
   "cell_type": "code",
   "execution_count": 39,
   "id": "c54ffce4",
   "metadata": {
    "ExecuteTime": {
     "end_time": "2022-10-15T00:49:24.280456Z",
     "start_time": "2022-10-15T00:49:24.233332Z"
    }
   },
   "outputs": [],
   "source": [
    "# # 从高温热浪、晴天、多云、阴天日获取2017-6-1到2017-8-15日的数据\n",
    "heat_wave_2017 = heat_wave.loc['2017-06-28':'2017-08-15']\n",
    "weather_temperature_sunny_2017 = weather_temperature_sunny.loc['2017-06-28':'2017-08-15']\n",
    "weather_temperature_cloudy_2017 = weather_temperature_cloudy.loc['2017-06-28':'2017-08-15']\n",
    "weather_temperature_overcast_2017 = weather_temperature_overcast.loc['2017-06-28':'2017-08-15']\n",
    "\n",
    "# # 高温热浪日\n",
    "paint_2017_summer_day_heatwave = paint_2017_summer_day.loc[heat_wave_2017.index]\n",
    "tpo_2017_summer_day_heatwave = tpo_2017_summer_day.loc[heat_wave_2017.index]\n",
    "aa_2017_summer_day_heatwave = aa_2017_summer_day.loc[heat_wave_2017.index]\n",
    "\n",
    "# # 晴天\n",
    "paint_2017_summer_day_sunny = paint_2017_summer_day.loc[weather_temperature_sunny_2017.index]\n",
    "tpo_2017_summer_day_sunny = tpo_2017_summer_day.loc[weather_temperature_sunny_2017.index]\n",
    "aa_2017_summer_day_sunny = aa_2017_summer_day.loc[weather_temperature_sunny_2017.index]\n",
    "\n",
    "# # 多云\n",
    "paint_2017_summer_day_cloudy = paint_2017_summer_day.loc[weather_temperature_cloudy_2017.index]\n",
    "tpo_2017_summer_day_cloudy = tpo_2017_summer_day.loc[weather_temperature_cloudy_2017.index]\n",
    "aa_2017_summer_day_cloudy = aa_2017_summer_day.loc[weather_temperature_cloudy_2017.index]\n",
    "\n",
    "# # 阴\n",
    "paint_2017_summer_day_overcast = paint_2017_summer_day.loc[weather_temperature_overcast_2017.index]\n",
    "tpo_2017_summer_day_overcast = tpo_2017_summer_day.loc[weather_temperature_overcast_2017.index]\n",
    "aa_2017_summer_day_overcast = aa_2017_summer_day.loc[weather_temperature_overcast_2017.index]"
   ]
  },
  {
   "cell_type": "markdown",
   "id": "3d724394",
   "metadata": {},
   "source": [
    "## 针对每半小时剔除异常值"
   ]
  },
  {
   "cell_type": "code",
   "execution_count": 40,
   "id": "27d67282",
   "metadata": {
    "ExecuteTime": {
     "end_time": "2022-10-15T00:49:29.078868Z",
     "start_time": "2022-10-15T00:49:25.741544Z"
    }
   },
   "outputs": [],
   "source": [
    "def process(paint_day, tpo_day, aa_day):\n",
    "    # # 第1次剔除\n",
    "    for i in range(48):\n",
    "        paint_day.iloc[:,i] = del_data_3sigma(paint_day.iloc[:,i])\n",
    "        tpo_day.iloc[:,i] = del_data_3sigma(tpo_day.iloc[:,i])\n",
    "        aa_day.iloc[:,i] = del_data_3sigma(aa_day.iloc[:,i])\n",
    "\n",
    "    # # 第2次剔除\n",
    "    for i in range(48):\n",
    "        paint_day.iloc[:,i] = del_data_3sigma(paint_day.iloc[:,i])\n",
    "        tpo_day.iloc[:,i] = del_data_3sigma(tpo_day.iloc[:,i])\n",
    "        aa_day.iloc[:,i] = del_data_3sigma(aa_day.iloc[:,i])\n",
    "\n",
    "    # # 第3次剔除\n",
    "    for i in range(48):\n",
    "        paint_day.iloc[:,i] = del_data_3sigma(paint_day.iloc[:,i])\n",
    "        tpo_day.iloc[:,i] = del_data_3sigma(tpo_day.iloc[:,i])\n",
    "        aa_day.iloc[:,i] = del_data_3sigma(aa_day.iloc[:,i])\n",
    "\n",
    "    # # 第4次剔除\n",
    "    for i in range(48):\n",
    "        paint_day.iloc[:,i] = del_data_3sigma(paint_day.iloc[:,i])\n",
    "        tpo_day.iloc[:,i] = del_data_3sigma(tpo_day.iloc[:,i])\n",
    "        aa_day.iloc[:,i] = del_data_3sigma(aa_day.iloc[:,i])\n",
    "    return paint_day, tpo_day, aa_day\n",
    "        \n",
    "paint_2017_summer_day, tpo_2017_summer_day, aa_2017_summer_day = process(paint_2017_summer_day, tpo_2017_summer_day, aa_2017_summer_day)\n",
    "paint_2017_summer_day_heatwave, tpo_2017_summer_day_heatwave, aa_2017_summer_day_heatwave = process(paint_2017_summer_day_heatwave, tpo_2017_summer_day_heatwave, aa_2017_summer_day_heatwave)\n",
    "paint_2017_summer_day_sunny, tpo_2017_summer_day_sunny, aa_2017_summer_day_sunny = process(paint_2017_summer_day_sunny, tpo_2017_summer_day_sunny, aa_2017_summer_day_sunny)\n",
    "paint_2017_summer_day_cloudy, tpo_2017_summer_day_cloudy, aa_2017_summer_day_cloudy = process(paint_2017_summer_day_cloudy, tpo_2017_summer_day_cloudy, aa_2017_summer_day_cloudy)\n",
    "# paint_2017_summer_day_overcast, tpo_2017_summer_day_overcast, aa_2017_summer_day_overcast = process(paint_2017_summer_day_overcast, tpo_2017_summer_day_overcast, aa_2017_summer_day_overcast)"
   ]
  },
  {
   "cell_type": "markdown",
   "id": "6186b185",
   "metadata": {
    "ExecuteTime": {
     "end_time": "2022-08-29T06:39:02.141029Z",
     "start_time": "2022-08-29T06:39:02.127943Z"
    }
   },
   "source": [
    "## 绘图"
   ]
  },
  {
   "cell_type": "code",
   "execution_count": 23,
   "id": "3dc16174",
   "metadata": {
    "ExecuteTime": {
     "end_time": "2022-09-01T09:22:26.499994Z",
     "start_time": "2022-09-01T09:22:24.128994Z"
    }
   },
   "outputs": [
    {
     "data": {
      "image/png": "[encoded data removed]",
      "text/plain": [
       "<Figure size 1080x576 with 5 Axes>"
      ]
     },
     "metadata": {
      "needs_background": "light"
     },
     "output_type": "display_data"
    }
   ],
   "source": [
    "def draw(ax, paint_day, tpo_day, aa_day, title):\n",
    "    # # paint\n",
    "    ax.plot(paint_day.mean(axis=0), label='paint')  # 平均\n",
    "    ax.fill_between(paint_day.mean(axis=0).index, paint_day.mean(axis=0) + paint_day.std(axis=0), \n",
    "                    paint_day.mean(axis=0) - paint_day.std(axis=0), alpha=.2, linewidth=0, label=r'${\\rm +/-STD_{paint}}$')  # 加减标准差，阴影图\n",
    "    # # paint\n",
    "    ax.plot(tpo_day.mean(axis=0), label='tpo')  # 平均\n",
    "    ax.fill_between(tpo_day.mean(axis=0).index, tpo_day.mean(axis=0) + tpo_day.std(axis=0), \n",
    "                    tpo_day.mean(axis=0) - tpo_day.std(axis=0), alpha=.2, linewidth=0, label=r'${\\rm +/-STD_{tpo}}$')  # 加减标准差，阴影图\n",
    "    # # paint\n",
    "    ax.plot(aa_day.mean(axis=0), label='aa')  # 平均\n",
    "    ax.fill_between(aa_day.mean(axis=0).index, aa_day.mean(axis=0) + aa_day.std(axis=0), \n",
    "                    aa_day.mean(axis=0) - aa_day.std(axis=0), alpha=.2, linewidth=0, label=r'${\\rm +/-STD_{aa}}$')  # 加减标准差，阴影图\n",
    "\n",
    "    # 设置y轴刻度的范围\n",
    "    ax.set_ylim((-2, 17))\n",
    "    ax.set_yticks(np.arange(0, 17, 5))\n",
    "    ax.set_yticklabels(np.arange(0, 17, 5), fontdict=font)\n",
    "    # 设置x轴刻度的范围\n",
    "    ax.set_xlim((0, 47))\n",
    "    ax.set_xticks(np.arange(3, 49, 8))\n",
    "    ax.set_xticklabels(['01:30', '05:30', '09:30', '13:30', '15:30', '21:30'], fontdict=font)\n",
    "    # 设置坐标标题\n",
    "    ax.set_ylabel('Cooling temperature(℃)', fontdict=font)\n",
    "    # 设置标题\n",
    "    ax.set_title(title, fontdict=font)\n",
    "\n",
    "    plt.legend(loc='upper left', ncol=2, fontsize=7)\n",
    "\n",
    "# 设置字体格式\n",
    "font = {'family': 'Times New Roman',\n",
    "        #'style': 'italic',  # 修改倾斜程度\n",
    "        'weight': 'normal',  # 修改粗细\n",
    "        'color': 'black',  # 颜色\n",
    "        'size': 15,  # 字体大小\n",
    "        }  # 设置xlabel、title、text等字体设置\n",
    "\n",
    "fig = plt.figure(figsize=(15, 8))\n",
    "# # 2017年夏季平均\n",
    "ax1 = fig.add_subplot(2, 3, 1)\n",
    "draw(ax1, paint_2017_summer_day, tpo_2017_summer_day, aa_2017_summer_day, 'The daily cooling temperature in summer')\n",
    "\n",
    "# # 2017年夏季高温热浪日平均\n",
    "ax2 = fig.add_subplot(2, 3, 2)\n",
    "draw(ax2, paint_2017_summer_day_heatwave, tpo_2017_summer_day_heatwave, aa_2017_summer_day_heatwave, 'The daily cooling temperature in heat wave day')\n",
    "\n",
    "# # 2017年夏季晴天平均\n",
    "ax3 = fig.add_subplot(2, 3, 3)\n",
    "draw(ax3, paint_2017_summer_day_sunny, tpo_2017_summer_day_sunny, aa_2017_summer_day_sunny, 'The daily cooling temperature in sunny day')\n",
    "\n",
    "\n",
    "# # 2017年夏季多云天平均\n",
    "ax4 = fig.add_subplot(2, 3, 4)\n",
    "draw(ax4, paint_2017_summer_day_cloudy, tpo_2017_summer_day_cloudy, aa_2017_summer_day_cloudy, 'The daily cooling temperature in cloudy day')\n",
    "\n",
    "# # 2017年夏季阴天平均\n",
    "ax5 = fig.add_subplot(2, 3, 5)\n",
    "draw(ax5, paint_2017_summer_day_overcast, tpo_2017_summer_day_overcast, aa_2017_summer_day_overcast, 'The daily cooling temperature in overcast day')\n",
    "\n",
    "plt.subplots_adjust(wspace=0.25, hspace=0.25)\n",
    "plt.savefig(r'C:\\Users\\NH4NO3nice\\Desktop\\2022 大创项目\\实验数据处理\\不同天气条件下，2017年夏季降温幅度日变化趋势.jpg', dpi=300, bbox_inches='tight', pad_inches=0.1)"
   ]
  },
  {
   "cell_type": "code",
   "execution_count": null,
   "id": "ecbe8152",
   "metadata": {},
   "outputs": [],
   "source": [
    "def draw(num, ax, paint_day, tpo_day, aa_day):\n",
    "    # # paint\n",
    "    ax.plot(paint_day.mean(axis=0), linewidth=2, label=r'$\\rm AC$', color='#1F77B4')  # 平均\n",
    "    ax.fill_between(paint_day.mean(axis=0).index, paint_day.mean(axis=0) + paint_day.std(axis=0), \n",
    "                    paint_day.mean(axis=0) - paint_day.std(axis=0), alpha=.15, linewidth=0, \n",
    "                    label=r'${\\rm \\pm STD_{AC}}$', color='#1F77B4')  # 加减标准差，阴影图\n",
    "    # # tpo\n",
    "    ax.plot(tpo_day.mean(axis=0), linewidth=2, label=r'$\\rm TPO$', color='#FF7E0E')  # 平均\n",
    "    ax.fill_between(tpo_day.mean(axis=0).index, tpo_day.mean(axis=0) + tpo_day.std(axis=0), \n",
    "                    tpo_day.mean(axis=0) - tpo_day.std(axis=0), alpha=.15, linewidth=0, \n",
    "                    label=r'${\\rm \\pm STD_{TPO}}$', color='#FF7E0E')  # 加减标准差，阴影图\n",
    "    # # aa\n",
    "    ax.plot(aa_day.mean(axis=0), linewidth=2, label=r'$\\rm SBS$', color='#2CA02C')  # 平均\n",
    "    ax.fill_between(aa_day.mean(axis=0).index, aa_day.mean(axis=0) + aa_day.std(axis=0), \n",
    "                    aa_day.mean(axis=0) - aa_day.std(axis=0), alpha=.15, linewidth=0, \n",
    "                    label=r'${\\rm \\pm STD_{SBS}}$', color='#2CA02C')  # 加减标准差，阴影图\n",
    "\n",
    "    if num == 1 or num == 2:\n",
    "        # 设置x轴刻度的范围\n",
    "        ax.set_xlim((0, 47))\n",
    "        ax.set_xticks(np.arange(3, 49, 8))\n",
    "        ax.set_xticklabels([])\n",
    "    else:\n",
    "        # 设置x轴刻度的范围\n",
    "        ax.set_xlim((0, 47))\n",
    "        ax.set_xticks(np.arange(3, 49, 8))\n",
    "        ax.set_xticklabels(['01:30', '05:30', '09:30', '13:30', '15:30', '21:30'], fontdict=font)\n",
    "        ax.set_xlabel('Time', fontdict=font)\n",
    "\n",
    "    if num == 1 or num == 3:\n",
    "        # 设置y轴刻度的范围\n",
    "        ax.set_ylim((-2, 19))\n",
    "        ax.set_yticks(np.arange(0, 19, 5))\n",
    "        ax.set_yticklabels(np.arange(0, 19, 5), fontdict=font)\n",
    "\n",
    "        # 设置坐标标题\n",
    "        ax.set_ylabel('Cooling temperature (℃)', fontdict=font)\n",
    "    else:\n",
    "        # 设置y轴刻度的范围\n",
    "        ax.set_ylim((-2, 19))\n",
    "        ax.set_yticks(np.arange(0, 19, 5))\n",
    "        ax.set_yticklabels([])\n",
    "\n",
    "    plt.legend(loc='upper left', ncol=2, fontsize=8, frameon=False)\n",
    "#     ax.legend(ncol=6, fontsize=7, loc='upper left', bbox_to_anchor=(-0.018, 1.19), frameon=False, columnspacing=0.2, handletextpad=0.2)\n",
    "\n",
    "# 设置字体格式\n",
    "font = {'family': 'Times New Roman',\n",
    "        #'style': 'italic',  # 修改倾斜程度\n",
    "        'weight': 'normal',  # 修改粗细\n",
    "        'color': 'black',  # 颜色\n",
    "        'size': 14,  # 字体大小\n",
    "        }  # 设置xlabel、title、text等字体设置\n",
    "\n",
    "fig = plt.figure(figsize=(10, 8))\n",
    "# # 2017年夏季平均\n",
    "ax1 = fig.add_subplot(2, 2, 1)\n",
    "draw(1, ax1, paint_2017_summer_day, tpo_2017_summer_day, aa_2017_summer_day)\n",
    "ax1.text(43.2, 17, '(a)', fontdict=font)\n",
    "\n",
    "# # 2017年夏季高温热浪日平均\n",
    "ax2 = fig.add_subplot(2, 2, 2)\n",
    "draw(2, ax2, paint_2017_summer_day_heatwave, tpo_2017_summer_day_heatwave, aa_2017_summer_day_heatwave)\n",
    "ax2.text(43.2, 17, '(b)', fontdict=font)\n",
    "\n",
    "# # 2017年夏季晴天平均\n",
    "ax3 = fig.add_subplot(2, 2, 3)\n",
    "draw(3, ax3, paint_2017_summer_day_sunny, tpo_2017_summer_day_sunny, aa_2017_summer_day_sunny)\n",
    "ax3.text(43.2, 17, '(c)', fontdict=font)\n",
    "\n",
    "# # 2017年夏季阴天平均\n",
    "ax4 = fig.add_subplot(2, 2, 4)\n",
    "draw(4, ax4, paint_2017_summer_day_overcast, tpo_2017_summer_day_overcast, aa_2017_summer_day_overcast)\n",
    "ax4.text(43.2, 17, '(d)', fontdict=font)\n",
    "\n",
    "plt.subplots_adjust(wspace=0.038, hspace=0.05)\n",
    "plt.savefig(r'C:\\Users\\NH4NO3nice\\Desktop\\2022 大创项目\\实验数据处理\\不同天气条件下，2017年夏季降温幅度日变化趋势2.jpg', dpi=300, bbox_inches='tight', pad_inches=0.1)"
   ]
  },
  {
   "cell_type": "code",
   "execution_count": 15,
   "id": "fa557e20",
   "metadata": {
    "ExecuteTime": {
     "end_time": "2022-08-31T12:30:21.009958Z",
     "start_time": "2022-08-31T12:30:20.396776Z"
    }
   },
   "outputs": [],
   "source": [
    "with pd.ExcelWriter(r'C:\\Users\\NH4NO3nice\\Desktop\\绘图数据-降温幅度.xlsx') as f:\n",
    "    paint_2017_summer_day.to_excel(f, sheet_name='paint_2017_summer_day', index=True, header=True)\n",
    "    tpo_2017_summer_day.to_excel(f, sheet_name='tpo_2017_summer_day', index=True, header=True)\n",
    "    aa_2017_summer_day.to_excel(f, sheet_name='aa_2017_summer_day', index=True, header=True)\n",
    "    \n",
    "    paint_2017_summer_day_heatwave.to_excel(f, sheet_name='paint_2017_summer_day_heatwave', index=True, header=True)\n",
    "    tpo_2017_summer_day_heatwave.to_excel(f, sheet_name='tpo_2017_summer_day_heatwave', index=True, header=True)\n",
    "    aa_2017_summer_day_heatwave.to_excel(f, sheet_name='aa_2017_summer_day_heatwave', index=True, header=True)\n",
    "    \n",
    "    paint_2017_summer_day_sunny.to_excel(f, sheet_name='paint_2017_summer_day_sunny', index=True, header=True)\n",
    "    tpo_2017_summer_day_sunny.to_excel(f, sheet_name='tpo_2017_summer_day_sunny', index=True, header=True)\n",
    "    aa_2017_summer_day_sunny.to_excel(f, sheet_name='aa_2017_summer_day_sunny', index=True, header=True)\n",
    "    \n",
    "    paint_2017_summer_day_cloudy.to_excel(f, sheet_name='paint_2017_summer_day_cloudy', index=True, header=True)\n",
    "    tpo_2017_summer_day_cloudy.to_excel(f, sheet_name='tpo_2017_summer_day_cloudy', index=True, header=True)\n",
    "    aa_2017_summer_day_cloudy.to_excel(f, sheet_name='aa_2017_summer_day_cloudy', index=True, header=True)\n",
    "    \n",
    "    paint_2017_summer_day_overcast.to_excel(f, sheet_name='paint_2017_summer_day_overcast', index=True, header=True)\n",
    "    tpo_2017_summer_day_overcast.to_excel(f, sheet_name='tpo_2017_summer_day_overcast', index=True, header=True)\n",
    "    aa_2017_summer_day_overcast.to_excel(f, sheet_name='aa_2017_summer_day_overcast', index=True, header=True)\n",
    "    "
   ]
  },
  {
   "cell_type": "code",
   "execution_count": 18,
   "id": "4a3fa092",
   "metadata": {
    "ExecuteTime": {
     "end_time": "2022-08-31T12:30:36.186144Z",
     "start_time": "2022-08-31T12:30:36.051913Z"
    },
    "code_folding": []
   },
   "outputs": [],
   "source": [
    "def a(summer_day_mean_std, paint_2017_summer_day, tpo_2017_summer_day, aa_2017_summer_day):\n",
    "    summer_day_mean_std['paint-mean'] = paint_2017_summer_day.mean(axis=0)\n",
    "    summer_day_mean_std['paint-std'] = paint_2017_summer_day.std(axis=0)\n",
    "\n",
    "    summer_day_mean_std['tpo-mean'] = tpo_2017_summer_day.mean(axis=0)\n",
    "    summer_day_mean_std['tpo-std'] = tpo_2017_summer_day.std(axis=0)\n",
    "\n",
    "    summer_day_mean_std['aa-mean'] = aa_2017_summer_day.mean(axis=0)\n",
    "    summer_day_mean_std['aa-std'] = aa_2017_summer_day.std(axis=0)\n",
    "    return summer_day_mean_std\n",
    "\n",
    "summer_day_mean_std, summer_day_heatwave_mean_std, summer_day_sunny_mean_std, summer_day_cloudy_mean_std, summer_day_overcast_mean_std = pd.DataFrame([]), pd.DataFrame([]), pd.DataFrame([]), pd.DataFrame([]), pd.DataFrame([])\n",
    "\n",
    "\n",
    "with pd.ExcelWriter(r'C:\\Users\\NH4NO3nice\\Desktop\\绘图数据-平均、标准差.xlsx') as f:\n",
    "    a(summer_day_mean_std, paint_2017_summer_day, tpo_2017_summer_day, aa_2017_summer_day).to_excel(f, sheet_name='2017_summer_day', index=True, header=True)\n",
    "    \n",
    "    a(summer_day_heatwave_mean_std, paint_2017_summer_day_heatwave, tpo_2017_summer_day_heatwave, aa_2017_summer_day_heatwave).to_excel(f, sheet_name='2017_summer_day_heatwave', index=True, header=True)\n",
    "\n",
    "    a(summer_day_sunny_mean_std, paint_2017_summer_day_sunny, tpo_2017_summer_day_sunny, aa_2017_summer_day_sunny).to_excel(f, sheet_name='2017_summer_day_sunny', index=True, header=True)\n",
    "    \n",
    "    a(summer_day_cloudy_mean_std, paint_2017_summer_day_cloudy, tpo_2017_summer_day_cloudy, aa_2017_summer_day_cloudy).to_excel(f, sheet_name='2017_summer_day_cloudy', index=True, header=True)\n",
    "    \n",
    "    a(summer_day_overcast_mean_std, paint_2017_summer_day_overcast, tpo_2017_summer_day_overcast, aa_2017_summer_day_overcast).to_excel(f, sheet_name='paint_2017_summer_day_overcast', index=True, header=True)"
   ]
  },
  {
   "cell_type": "markdown",
   "id": "2015f8ba",
   "metadata": {},
   "source": [
    "# 20170609-20170815太阳短波辐射与paint冷却效率的关系 "
   ]
  },
  {
   "cell_type": "markdown",
   "id": "f17d4095",
   "metadata": {},
   "source": [
    "## 提取太阳辐射和降温幅度"
   ]
  },
  {
   "cell_type": "code",
   "execution_count": 57,
   "id": "a3f39a66",
   "metadata": {
    "ExecuteTime": {
     "end_time": "2022-10-09T06:23:22.270141Z",
     "start_time": "2022-10-09T06:23:22.188228Z"
    }
   },
   "outputs": [],
   "source": [
    "# # 提取2017-06-28到2017-08-15的数据\n",
    "paint_2017_summer_ = paint_2017_summer.loc[paint_2017_summer.index.hour.isin(np.arange(6, 18))].loc['2017-06-09':]\n",
    "\n",
    "# # 深度辐射太阳短波辐射、反照率、冷却温度\n",
    "paint_2017_DR = copy.deepcopy(paint_2017_summer_['DR'])\n",
    "paint_2017_albedo = copy.deepcopy(paint_2017_summer_['albedo'])\n",
    "paint_2017_cooling_tem = copy.deepcopy(paint_2017_summer_['cooling_temperature'])\n",
    "\n",
    "# # 剔除\n",
    "paint_2017_cooling_tem = del_data_3sigma(paint_2017_cooling_tem)"
   ]
  },
  {
   "cell_type": "markdown",
   "id": "66ddcdc5",
   "metadata": {},
   "source": [
    "## 计算辐射日总量和降温幅度日平均"
   ]
  },
  {
   "cell_type": "code",
   "execution_count": null,
   "id": "83ab05a1",
   "metadata": {
    "ExecuteTime": {
     "end_time": "2022-10-09T06:23:24.134398Z",
     "start_time": "2022-10-09T06:23:23.420189Z"
    },
    "collapsed": true
   },
   "outputs": [],
   "source": [
    "paint_2017_DR = pd.DataFrame(paint_2017_DR)\n",
    "paint_2017_cooling_tem = pd.DataFrame(paint_2017_cooling_tem)\n",
    "paint_2017_albedo = pd.DataFrame(paint_2017_albedo)\n",
    "\n",
    "paint_2017_DR_day = heavy_sampling_method(paint_2017_DR, '2017-06-09 00:00:00', '2017-08-16 00:00:00', '1D', 'sum', type=3)\n",
    "paint_2017_cooling_tem_day = heavy_sampling_method(paint_2017_cooling_tem, '2017-06-09 00:00:00', '2018-08-16 00:00:00', '1D', 'mean', type=3)\n",
    "paint_2017_albedo_day = heavy_sampling_method(paint_2017_albedo, '2017-06-09 00:00:00', '2017-08-16 00:00:00', '1D', 'mean', type=3)"
   ]
  },
  {
   "cell_type": "markdown",
   "id": "ada5bd89",
   "metadata": {},
   "source": [
    "## 剔除降雨日"
   ]
  },
  {
   "cell_type": "code",
   "execution_count": 59,
   "id": "de4e758f",
   "metadata": {
    "ExecuteTime": {
     "end_time": "2022-09-29T01:56:46.597704Z",
     "start_time": "2022-09-29T01:56:46.159543Z"
    }
   },
   "outputs": [],
   "source": [
    "# # 提取降水数据\n",
    "rain_file = r'C:\\Users\\NH4NO3nice\\Desktop\\2022 大创项目\\实验数据处理\\original_data\\2017-2020年南京站降水量数据.xlsx'\n",
    "rain = pd.read_excel(rain_file, skiprows=[1], usecols=[3, 4, 5, 8])\n",
    "# # 将时间转化为时间格式\n",
    "rain_time = []\n",
    "for i in range(len(rain)):\n",
    "    temp = str(rain.iloc[i, 0]) + '-' + str(rain.iloc[i, 1]) + '-' + str(rain.iloc[i, 2])\n",
    "    rain_time.append(datetime.strptime(temp, '%Y-%m-%d'))\n",
    "rain.index = rain_time\n",
    "# 删除年、月、日列\n",
    "rain.drop(['年', '月', '日'], axis=1, inplace=True)\n",
    "# 修改列名\n",
    "rain.rename(columns={'降水量': 'rainfall'}, inplace=True)\n",
    "# 筛选出无降水的日\n",
    "rain = rain.loc[rain['rainfall'] == 0]\n",
    "paint_2017_DR_day['rainfall'] = rain\n",
    "paint_2017_cooling_tem_day['rainfall'] = rain\n",
    "paint_2017_albedo_day['rainfall'] = rain\n",
    "\n",
    "paint_2017_DR_day.dropna(axis=0, how='any', inplace=True)\n",
    "paint_2017_cooling_tem_day.dropna(axis=0, how='any', inplace=True)\n",
    "paint_2017_albedo_day.dropna(axis=0, how='any', inplace=True)"
   ]
  },
  {
   "cell_type": "markdown",
   "id": "72ef6f5a",
   "metadata": {},
   "source": [
    "## 一元回归分析"
   ]
  },
  {
   "cell_type": "code",
   "execution_count": 61,
   "id": "a29df27f",
   "metadata": {
    "ExecuteTime": {
     "end_time": "2022-09-29T01:57:20.096404Z",
     "start_time": "2022-09-29T01:57:20.071400Z"
    }
   },
   "outputs": [],
   "source": [
    "def f_fit(x,y_fit):\n",
    "    a, b = y_fit[0], y_fit[1]\n",
    "    return a * x + b\n",
    "\n",
    "# 一元线性拟合\n",
    "# paint_line = np.polyfit(paint_day['albedo'], paint_day['cooling_temperature'], 1)\n",
    "paint_line = stats.linregress(paint_2017_DR_day['DR'] / 10 ** 6, paint_2017_cooling_tem_day['cooling_temperature'])\n",
    "\n",
    "# 计算拟合值，绘图使用\n",
    "y_paint = f_fit(np.arange(9, 28, 1), paint_line)"
   ]
  },
  {
   "cell_type": "code",
   "execution_count": null,
   "id": "fba089e1",
   "metadata": {
    "ExecuteTime": {
     "end_time": "2022-09-29T01:59:23.531334Z",
     "start_time": "2022-09-29T01:59:23.252647Z"
    }
   },
   "outputs": [],
   "source": [
    "# 设置字体格式\n",
    "font = {'family': 'Times New Roman',\n",
    "        #'style': 'italic',  # 修改倾斜程度\n",
    "        'weight': 'normal',  # 修改粗细\n",
    "        'color': 'black',  # 颜色\n",
    "        'size': 14,  # 字体大小\n",
    "        }  # 设置xlabel、title、text等字体设置\n",
    "\n",
    "fig, ax = plt.subplots(1, 1)\n",
    "ax.scatter(paint_2017_DR_day['DR'] / 10 ** 6, paint_2017_cooling_tem_day['cooling_temperature'], marker='o', color='none', edgecolors='black')\n",
    "ax.plot(np.arange(9, 28, 1), y_paint, color='red')\n",
    "\n",
    "ax.set_xlim((9.5, 27))\n",
    "ax.set_xlabel(r'DR($MJ·m^{-2}$)')\n",
    "ax.set_ylabel('Cooling Temperature(℃)')\n",
    "ax.text(10, 6.34, 'y=' + str(np.poly1d(paint_line[:2]))[2:], color='red', fontdict=font)\n",
    "ax.text(10, 5.9, 'P=' + str(round(paint_line[3], 2)) + '   ' + r'$\\rmR^2=$' + str(round(paint_line[2] ** 2, 2)), color='red', fontdict=font)\n",
    "\n",
    "# ax1 = ax.twinx()\n",
    "# ax1.scatter(paint_2017_DR_day['DR'], paint_2017_albedo_day['albedo'], marker='o', color='none', edgecolors='red')\n",
    "# ax1.set_ylabel('Albedo')\n",
    "# plt.savefig(r'C:\\Users\\NH4NO3nice\\Desktop\\2022 大创项目\\实验数据处理\\太阳短波辐射与冷却温度的关系.jpg', dpi=300, bbox_inches='tight', pad_inches=0.1)"
   ]
  },
  {
   "cell_type": "markdown",
   "id": "d25b9653",
   "metadata": {},
   "source": [
    "# 2018-2020年夏季太阳短波辐射与TPO和SBS冷却效率的关系"
   ]
  },
  {
   "cell_type": "markdown",
   "id": "a75cbbd4",
   "metadata": {},
   "source": [
    "## 提取夏季TPO\\SBS太阳反照率与降温幅度"
   ]
  },
  {
   "cell_type": "code",
   "execution_count": 180,
   "id": "08ac2c77",
   "metadata": {
    "ExecuteTime": {
     "end_time": "2022-10-09T06:23:31.885025Z",
     "start_time": "2022-10-09T06:23:31.852032Z"
    }
   },
   "outputs": [],
   "source": [
    "# # 提取夏季数据\n",
    "tpo_2018_2020_summer = tpo_2018_2020.loc[tpo_2018_2020.index.month.isin([6, 7, 8])]\n",
    "aa_2018_2020_summer = aa_2018_2020.loc[aa_2018_2020.index.month.isin([6, 7, 8])]\n",
    "# # 提取白天数据\n",
    "tpo_2018_2020_summer_day = tpo_2018_2020_summer.loc[tpo_2018_2020_summer.index.hour.isin(np.arange(7, 18))]\n",
    "aa_2018_2020_summer_day = aa_2018_2020_summer.loc[aa_2018_2020_summer.index.hour.isin(np.arange(7, 18))]\n",
    "\n",
    "# # 深度辐射太阳短波辐射、冷却温度\n",
    "tpo_2018_2020_summer_DR = copy.deepcopy(tpo_2018_2020_summer_day['DR'])\n",
    "tpo_2018_2020_summer_cooling_tem = copy.deepcopy(tpo_2018_2020_summer_day['cooling_temperature'])\n",
    "\n",
    "aa_2018_2020_summer_DR = copy.deepcopy(aa_2018_2020_summer_day['DR'])\n",
    "aa_2018_2020_summer_cooling_tem = copy.deepcopy(aa_2018_2020_summer_day['cooling_temperature'])\n",
    "\n",
    "# # 剔除\n",
    "tpo_2018_2020_summer_cooling_tem = del_data_3sigma(tpo_2018_2020_summer_cooling_tem)\n",
    "aa_2018_2020_summer_cooling_tem = del_data_3sigma(aa_2018_2020_summer_cooling_tem)"
   ]
  },
  {
   "cell_type": "markdown",
   "id": "32926f27",
   "metadata": {},
   "source": [
    "## 计算辐射日总量和降温幅度日平均"
   ]
  },
  {
   "cell_type": "code",
   "execution_count": null,
   "id": "98eb0df1",
   "metadata": {
    "ExecuteTime": {
     "end_time": "2022-10-09T06:23:37.616009Z",
     "start_time": "2022-10-09T06:23:33.146903Z"
    },
    "collapsed": true
   },
   "outputs": [],
   "source": [
    "tpo_2018_2020_summer_DR = pd.DataFrame(tpo_2018_2020_summer_DR)\n",
    "tpo_2018_2020_summer_cooling_tem = pd.DataFrame(tpo_2018_2020_summer_cooling_tem)\n",
    "\n",
    "aa_2018_2020_summer_DR = pd.DataFrame(aa_2018_2020_summer_DR)\n",
    "aa_2018_2020_summer_cooling_tem = pd.DataFrame(aa_2018_2020_summer_cooling_tem)\n",
    "\n",
    "\n",
    "tpo_2018_2020_summer_DR_day = heavy_sampling_method(tpo_2018_2020_summer_DR, '2018-01-01 00:00:00', '2021-01-01 00:00:00', '1D', 'sum-solar', type=3)\n",
    "tpo_2018_2020_summer_cooling_tem_day = heavy_sampling_method(tpo_2018_2020_summer_cooling_tem, '2018-01-01 00:00:00', '2021-01-01 00:00:00', '1D', 'mean', type=3)\n",
    "\n",
    "aa_2018_2020_summer_DR_day = heavy_sampling_method(aa_2018_2020_summer_DR, '2018-01-01 00:00:00', '2021-01-01 00:00:00', '1D', 'sum-solar', type=3)\n",
    "aa_2018_2020_summer_cooling_tem_day = heavy_sampling_method(aa_2018_2020_summer_cooling_tem, '2018-01-01 00:00:00', '2021-01-01 00:00:00', '1D', 'mean', type=3)"
   ]
  },
  {
   "cell_type": "markdown",
   "id": "5e3c80db",
   "metadata": {},
   "source": [
    "## 剔除降雨日"
   ]
  },
  {
   "cell_type": "code",
   "execution_count": 182,
   "id": "3fcc7235",
   "metadata": {
    "ExecuteTime": {
     "end_time": "2022-10-09T06:23:40.142965Z",
     "start_time": "2022-10-09T06:23:39.785681Z"
    }
   },
   "outputs": [],
   "source": [
    "# # 提取降水数据\n",
    "rain_file = r'C:\\Users\\NH4NO3nice\\Desktop\\2022 大创项目\\实验数据处理\\original_data\\2017-2020年南京站降水量数据.xlsx'\n",
    "rain = pd.read_excel(rain_file, skiprows=[1], usecols=[3, 4, 5, 8])\n",
    "# # 将时间转化为时间格式\n",
    "rain_time = []\n",
    "for i in range(len(rain)):\n",
    "    temp = str(rain.iloc[i, 0]) + '-' + str(rain.iloc[i, 1]) + '-' + str(rain.iloc[i, 2])\n",
    "    rain_time.append(datetime.strptime(temp, '%Y-%m-%d'))\n",
    "rain.index = rain_time\n",
    "# 删除年、月、日列\n",
    "rain.drop(['年', '月', '日'], axis=1, inplace=True)\n",
    "# 修改列名\n",
    "rain.rename(columns={'降水量': 'rainfall'}, inplace=True)\n",
    "# 筛选出无降水的日\n",
    "rain = rain.loc[rain['rainfall'] == 0]\n",
    "\n",
    "# # \n",
    "tpo_2018_2020_summer_DR_cooling_tem_day = copy.deepcopy(tpo_2018_2020_summer_DR_day)\n",
    "tpo_2018_2020_summer_DR_cooling_tem_day['cooling_temperature'] = tpo_2018_2020_summer_cooling_tem_day\n",
    "tpo_2018_2020_summer_DR_cooling_tem_day['rainfall'] = rain\n",
    "\n",
    "aa_2018_2020_summer_DR_cooling_tem_day = copy.deepcopy(aa_2018_2020_summer_DR_day)\n",
    "aa_2018_2020_summer_DR_cooling_tem_day['cooling_temperature'] = aa_2018_2020_summer_cooling_tem_day\n",
    "aa_2018_2020_summer_DR_cooling_tem_day['rainfall'] = rain\n",
    "\n",
    "# # 删除rainfall列为nan的行，即删去雨天\n",
    "tpo_2018_2020_summer_DR_cooling_tem_day.dropna(axis=0, how='any', inplace=True)\n",
    "aa_2018_2020_summer_DR_cooling_tem_day.dropna(axis=0, how='any', inplace=True)\n",
    "# for i in tpo_2018_2020_summer_DR_day.index:\n",
    "#     if np.isnan(tpo_2018_2020_summer_DR_day.loc[i, 'rainfall']):\n",
    "#         tpo_2018_2020_summer_DR_day.drop(i, axis=0, inplace=True)\n",
    "#         tpo_2018_2020_summer_cooling_tem_day.drop(i, axis=0, inplace=True)\n",
    "# for i in aa_2018_2020_summer_DR_day.index:\n",
    "#     if np.isnan(aa_2018_2020_summer_DR_day.loc[i, 'rainfall']):\n",
    "#         aa_2018_2020_summer_DR_day.drop(i, axis=0, inplace=True)\n",
    "#         aa_2018_2020_summer_cooling_tem_day.drop(i, axis=0, inplace=True)"
   ]
  },
  {
   "cell_type": "markdown",
   "id": "7cfd8947",
   "metadata": {},
   "source": [
    "## 一元回归分析"
   ]
  },
  {
   "cell_type": "code",
   "execution_count": 183,
   "id": "d6ed8d3b",
   "metadata": {
    "ExecuteTime": {
     "end_time": "2022-10-09T06:23:41.748674Z",
     "start_time": "2022-10-09T06:23:41.729695Z"
    }
   },
   "outputs": [],
   "source": [
    "def f_fit(x,y_fit):\n",
    "    a, b = y_fit[0], y_fit[1]\n",
    "    return a * x + b\n",
    "\n",
    "# 一元线性拟合\n",
    "# paint_line = np.polyfit(paint_day['albedo'], paint_day['cooling_temperature'], 1)\n",
    "tpo_line = stats.linregress(tpo_2018_2020_summer_DR_cooling_tem_day['DR'] / 10 ** 6, tpo_2018_2020_summer_DR_cooling_tem_day['cooling_temperature'])\n",
    "aa_line = stats.linregress(aa_2018_2020_summer_DR_cooling_tem_day['DR'] / 10 ** 6, aa_2018_2020_summer_DR_cooling_tem_day['cooling_temperature'])\n",
    "\n",
    "# 计算拟合值，绘图使用\n",
    "y_tpo = f_fit(np.arange(2, 30, 1), tpo_line)\n",
    "y_aa = f_fit(np.arange(2, 30, 1), aa_line)"
   ]
  },
  {
   "cell_type": "code",
   "execution_count": null,
   "id": "9b591bfd",
   "metadata": {},
   "outputs": [],
   "source": [
    "# 设置字体格式\n",
    "font = {'family': 'Times New Roman',\n",
    "        #'style': 'italic',  # 修改倾斜程度\n",
    "        'weight': 'normal',  # 修改粗细\n",
    "        'color': 'black',  # 颜色\n",
    "        'size': 14,  # 字体大小\n",
    "        }  # 设置xlabel、title、text等字体设置\n",
    "\n",
    "fig = plt.figure(figsize=(10, 4))\n",
    "# # TPO\n",
    "ax1 = fig.add_subplot(1, 2, 1)\n",
    "ax1.scatter(tpo_2018_2020_summer_DR_cooling_tem_day['DR'] / 10 ** 6, tpo_2018_2020_summer_DR_cooling_tem_day['cooling_temperature'], marker='o', color='none', edgecolors='black')\n",
    "ax1.plot(np.arange(2, 30, 1), y_tpo, color='red')\n",
    "\n",
    "ax1.set_xlim((3.3, 28))\n",
    "ax1.set_xticks(np.arange(5, 30, 5))\n",
    "ax1.set_xticklabels(np.arange(5, 30, 5), fontdict=font)\n",
    "ax1.set_xlabel(r'Total daily solar radiation($\\rm MJ·m^{-2}$)', fontdict=font)\n",
    "\n",
    "ax1.set_ylim((1, 7))\n",
    "ax1.set_yticks(np.arange(1, 8, 1))\n",
    "ax1.set_yticklabels(np.arange(1, 8, 1), fontdict=font)\n",
    "ax1.set_ylabel('The daytime cooling temperature of TPO(℃)', fontdict=font)\n",
    "\n",
    "ax1.text(4, 6.5, 'y=' + str(np.poly1d(tpo_line[:2]))[2:], color='red', fontdict=font)\n",
    "if tpo_line[3] < 0.01:\n",
    "    ax1.text(4, 6.05, 'P < 0.01' + '   ' + r'$\\rm R^2=$' + str(round(tpo_line[2] ** 2, 2)), color='red', fontdict=font)\n",
    "else:\n",
    "    ax1.text(4, 6.05, 'P=' + str(round(tpo_line[3], 2)) + '   ' + r'$\\rm R^2=$' + str(round(tpo_line[2] ** 2, 2)), color='red', fontdict=font)\n",
    "ax1.text(25.7, 1.3, '(b)', fontdict=font)\n",
    "\n",
    "# # SBS\n",
    "ax2 = fig.add_subplot(1, 2, 2)\n",
    "ax2.scatter(aa_2018_2020_summer_DR_cooling_tem_day['DR'] / 10 ** 6, aa_2018_2020_summer_DR_cooling_tem_day['cooling_temperature'], marker='o', color='none', edgecolors='black')\n",
    "ax2.plot(np.arange(2, 30, 1), y_aa, color='red')\n",
    "\n",
    "ax2.set_xlim((3.3, 28))\n",
    "ax2.set_xticks(np.arange(5, 30, 5))\n",
    "ax2.set_xticklabels(np.arange(5, 30, 5), fontdict=font)\n",
    "ax2.set_xlabel(r'Total daily solar radiation($\\rm MJ·m^{-2}$)', fontdict=font)\n",
    "\n",
    "ax2.set_ylim((3, 27))\n",
    "ax2.set_yticks(np.arange(5, 30, 5))\n",
    "ax2.set_yticklabels(np.arange(5, 30, 5), fontdict=font)\n",
    "ax2.set_ylabel('The daytime cooling temperature of SBS(℃)', fontdict=font)\n",
    "\n",
    "ax2.text(4, 25., 'y=' + str(np.poly1d(aa_line[:2]))[2:], color='red', fontdict=font)\n",
    "if aa_line[3] < 0.01:\n",
    "    ax2.text(4, 23.1, 'P < 0.01' + '   ' + r'$\\rmR^2=$' + str(round(aa_line[2] ** 2, 2)), color='red', fontdict=font)\n",
    "else:\n",
    "    ax2.text(4, 23.1, 'P=' + str(round(aa_line[3], 2)) + '   ' + r'$\\rmR^2=$' + str(round(aa_line[2] ** 2, 2)), color='red', fontdict=font)\n",
    "ax2.text(25.7, 4.2, '(c)', fontdict=font)\n",
    "\n",
    "# plt.subplots_adjust(wspace=0.12, hspace=0)\n",
    "plt.savefig(r'C:\\Users\\NH4NO3nice\\Desktop\\2022 大创项目\\实验数据处理\\TPO和SBS太阳短波辐射与冷却温度的关系.svg', bbox_inches='tight', pad_inches=0.1)"
   ]
  },
  {
   "cell_type": "markdown",
   "id": "c46fafb2",
   "metadata": {},
   "source": [
    "# 反照率与降温幅度关系"
   ]
  },
  {
   "cell_type": "markdown",
   "id": "0cce4d1c",
   "metadata": {},
   "source": [
    "## 提取2017年夏季(6.9日之后)白天的反照率和降温幅度"
   ]
  },
  {
   "cell_type": "code",
   "execution_count": 98,
   "id": "eb7d7c88",
   "metadata": {
    "ExecuteTime": {
     "end_time": "2022-09-29T01:56:19.958152Z",
     "start_time": "2022-09-29T01:56:19.927137Z"
    }
   },
   "outputs": [],
   "source": [
    "# # 提取反照率和降温幅度数据\n",
    "paint_albedo_coolingtem = paint_2017_summer.loc[paint_2017_summer.index.hour.isin(np.arange(6, 18))].iloc[:, 6:8].loc['2017-06-09':]\n",
    "tpo_albedo_coolingtem = tpo_2017_summer.loc[tpo_2017_summer.index.hour.isin(np.arange(6, 18))].iloc[:, 6:8].loc['2017-06-09':]\n",
    "aa_albedo_coolingtem = aa_2017_summer.loc[aa_2017_summer.index.hour.isin(np.arange(6, 18))].iloc[:, 6:8].loc['2017-06-09':]\n",
    "\n",
    "# # 3sigma剔除野点\n",
    "paint_albedo_coolingtem = del_data_3sigma(paint_albedo_coolingtem)\n",
    "tpo_albedo_coolingtem = del_data_3sigma(tpo_albedo_coolingtem)\n",
    "aa_albedo_coolingtem = del_data_3sigma(aa_albedo_coolingtem)"
   ]
  },
  {
   "cell_type": "markdown",
   "id": "54ee0171",
   "metadata": {},
   "source": [
    "## 求日平均"
   ]
  },
  {
   "cell_type": "code",
   "execution_count": null,
   "id": "96ddbf41",
   "metadata": {
    "ExecuteTime": {
     "end_time": "2022-09-29T01:56:22.712580Z",
     "start_time": "2022-09-29T01:56:21.533765Z"
    },
    "collapsed": true
   },
   "outputs": [],
   "source": [
    "paint_day = heavy_sampling_method(paint_albedo_coolingtem, '2017-01-01 00:00:00', '2018-08-16 00:00:00', '1d', 'mean', type=3)\n",
    "tpo_day = heavy_sampling_method(tpo_albedo_coolingtem, '2017-01-01 00:00:00', '2018-08-16 00:00:00', '1d', 'mean', type=3)\n",
    "aa_day = heavy_sampling_method(aa_albedo_coolingtem, '2017-01-01 00:00:00', '2018-08-16 00:00:00', '1d', 'mean', type=3)\n",
    "\n",
    "# # 剔除含有缺测NaN的时次\n",
    "paint_day.dropna(axis=0, how='any', inplace=True)\n",
    "tpo_day.dropna(axis=0, how='any', inplace=True)\n",
    "aa_day.dropna(axis=0, how='any', inplace=True)"
   ]
  },
  {
   "cell_type": "markdown",
   "id": "04ad1127",
   "metadata": {},
   "source": [
    "## 剔除降水日"
   ]
  },
  {
   "cell_type": "code",
   "execution_count": 100,
   "id": "f1c13940",
   "metadata": {
    "ExecuteTime": {
     "end_time": "2022-09-24T07:03:15.129078Z",
     "start_time": "2022-09-24T07:03:13.853390Z"
    }
   },
   "outputs": [],
   "source": [
    "# # 提取降水数据\n",
    "rain_file = r'C:\\Users\\NH4NO3nice\\Desktop\\2022 大创项目\\实验数据处理\\original_data\\2017-2020年南京站降水量数据.xlsx'\n",
    "rain = pd.read_excel(rain_file, skiprows=[1], usecols=[3, 4, 5, 8])\n",
    "# # 将时间转化为时间格式\n",
    "rain_time = []\n",
    "for i in range(len(rain)):\n",
    "    temp = str(rain.iloc[i, 0]) + '-' + str(rain.iloc[i, 1]) + '-' + str(rain.iloc[i, 2])\n",
    "    rain_time.append(datetime.strptime(temp, '%Y-%m-%d'))\n",
    "rain.index = rain_time\n",
    "# 删除年、月、日列\n",
    "rain.drop(['年', '月', '日'], axis=1, inplace=True)\n",
    "# 修改列名\n",
    "rain.rename(columns={'降水量': 'rainfall'}, inplace=True)\n",
    "# 赛选出无降水的日\n",
    "rain = rain.loc[rain['rainfall'] == 0]\n",
    "paint_day['rainfall'] = rain\n",
    "tpo_day['rainfall'] = rain\n",
    "aa_day['rainfall'] = rain\n",
    "\n",
    "paint_day.dropna(axis=0, how='any', inplace=True)\n",
    "tpo_day.dropna(axis=0, how='any', inplace=True)\n",
    "aa_day.dropna(axis=0, how='any', inplace=True)"
   ]
  },
  {
   "cell_type": "markdown",
   "id": "dd841088",
   "metadata": {},
   "source": [
    "## 拟合"
   ]
  },
  {
   "cell_type": "code",
   "execution_count": 101,
   "id": "fe006595",
   "metadata": {
    "ExecuteTime": {
     "end_time": "2022-09-24T07:05:42.550868Z",
     "start_time": "2022-09-24T07:05:42.516839Z"
    }
   },
   "outputs": [],
   "source": [
    "def f_fit(x,y_fit):\n",
    "    a, b = y_fit[0], y_fit[1]\n",
    "    return a * x + b\n",
    "\n",
    "# 一元线性拟合\n",
    "# paint_line = np.polyfit(paint_day['albedo'], paint_day['cooling_temperature'], 1)\n",
    "paint_line = stats.linregress(paint_day['albedo'], paint_day['cooling_temperature'])\n",
    "tpo_line =  stats.linregress(tpo_day['albedo'], tpo_day['cooling_temperature'])\n",
    "aa_line =  stats.linregress(aa_day['albedo'], aa_day['cooling_temperature'])\n",
    "\n",
    "# 计算拟合值，绘图使用\n",
    "y_paint = f_fit(np.arange(0, 1, 0.01), paint_line)\n",
    "y_tpo = f_fit(np.arange(0, 1, 0.01), tpo_line)\n",
    "y_aa = f_fit(np.arange(0, 1, 0.01), aa_line)"
   ]
  },
  {
   "cell_type": "markdown",
   "id": "eaac5f76",
   "metadata": {
    "ExecuteTime": {
     "end_time": "2022-09-01T11:28:55.947751Z",
     "start_time": "2022-09-01T11:28:51.620Z"
    }
   },
   "source": [
    "## 绘图"
   ]
  },
  {
   "cell_type": "code",
   "execution_count": null,
   "id": "4a781f3a",
   "metadata": {
    "ExecuteTime": {
     "end_time": "2022-09-24T07:13:22.748392Z",
     "start_time": "2022-09-24T07:13:22.044176Z"
    }
   },
   "outputs": [],
   "source": [
    "# 设置字体格式\n",
    "font = {'family': 'Times New Roman',\n",
    "        #'style': 'italic',  # 修改倾斜程度\n",
    "        'weight': 'normal',  # 修改粗细\n",
    "        'color': 'black',  # 颜色\n",
    "        'size': 14,  # 字体大小\n",
    "        }  # 设置xlabel、title、text等字体设置\n",
    "\n",
    "fig = plt.figure(figsize=(15, 4), dpi=300)\n",
    "\n",
    "# # paint\n",
    "ax1 = fig.add_subplot(1, 3, 1)\n",
    "ax1.scatter(paint_day['albedo'], paint_day['cooling_temperature'], marker='o', color='none', edgecolors='black')\n",
    "ax1.plot(np.arange(0, 1, 0.01), y_paint, color='red')\n",
    "# 横轴\n",
    "ax1.set_xlim((0.28, 0.57))\n",
    "ax1.set_xticks(np.arange(0.3, 0.6, 0.05))\n",
    "ax1.set_xlabel('Albedo of AC', fontdict=font)\n",
    "# 纵轴\n",
    "ax1.set_ylim((1.2, 6.8))\n",
    "ax1.set_yticks(np.arange(2, 7, 1))\n",
    "ax1.set_ylabel( 'Cooling temperature(℃)', fontdict=font)\n",
    "ax1.text(0.287, 6.335, 'y=' + str(np.poly1d(paint_line[:2]))[2:], color='red', fontdict=font)\n",
    "ax1.text(0.287, 5.9, 'P=' + str(round(paint_line[3], 2)) + '   ' + r'$\\rmR^2=$' + str(round(paint_line[2] ** 2, 2)), color='red', fontdict=font)\n",
    "\n",
    "# # tpo\n",
    "ax2 = fig.add_subplot(1, 3, 2)\n",
    "ax2.scatter(tpo_day['albedo'], tpo_day['cooling_temperature'], marker='o', color='none', edgecolors='black')\n",
    "ax2.plot(np.arange(0, 1, 0.01), y_tpo, color='red')\n",
    "# 横轴\n",
    "ax2.set_xlim((0.30, 0.46))\n",
    "ax2.set_xticks(np.arange(0.32, 0.45, 0.02))\n",
    "ax2.set_xlabel('Albedo of tpo', fontdict=font)\n",
    "# 纵轴\n",
    "ax2.set_ylim((2.2, 6.3))\n",
    "ax2.set_yticks(np.arange(2.5, 6.2, 0.5))\n",
    "ax2.set_ylabel('Cooling temperature of tpo(℃)', fontdict=font)\n",
    "\n",
    "ax2.text(0.305, 6, 'y=' + str(np.poly1d(tpo_line[:2]))[2:], color='red', fontdict=font)\n",
    "ax2.text(0.305, 5.7, 'P=' + str(round(tpo_line[3], 2)) + '   ' + r'$\\rmR^2=$' + str(round(tpo_line[2] ** 2, 2)), color='red', fontdict=font)\n",
    "\n",
    "\n",
    "# # aa\n",
    "ax3 = fig.add_subplot(1, 3, 3)\n",
    "ax3.scatter(aa_day['albedo'], aa_day['cooling_temperature'], marker='o', color='none', edgecolors='black')\n",
    "ax3.plot(np.arange(0, 1, 0.01), y_aa, color='red')\n",
    "# 横轴\n",
    "ax3.set_xlim((0.83, 0.93))\n",
    "ax3.set_xticks(np.arange(0.84, 0.92, 0.02))\n",
    "ax3.set_xlabel('Albedo of aa', fontdict=font)\n",
    "# 纵轴\n",
    "ax3.set_ylim((4.6, 12.2))\n",
    "ax3.set_yticks(np.arange(5, 13, 1))\n",
    "ax3.set_ylabel('Cooling temperature of aa(℃)', fontdict=font)\n",
    "ax3.text(0.832, 11.6, 'y=' + str(np.poly1d(aa_line[:2]))[2:], color='red', fontdict=font)\n",
    "ax3.text(0.832, 11, 'P=' + str(round(aa_line[3], 2)) + '   ' + r'$\\rmR^2=$' + str(round(aa_line[2] ** 2, 2)), color='red', fontdict=font)\n",
    "\n",
    "# # 调整子图间距，横纵\n",
    "plt.subplots_adjust(wspace=0.2, hspace=0.25)\n",
    "# plt.savefig(r'C:\\Users\\NH4NO3nice\\Desktop\\2022 大创项目\\实验数据处理\\冷却温度与反照率的关系.svg', dpi=300, bbox_inches='tight', pad_inches=0.1)"
   ]
  },
  {
   "cell_type": "markdown",
   "id": "39333282",
   "metadata": {},
   "source": [
    "## 绘图-只画AC反照率与降温的关系"
   ]
  },
  {
   "cell_type": "code",
   "execution_count": null,
   "id": "86a6de68",
   "metadata": {},
   "outputs": [],
   "source": [
    "# 设置字体格式\n",
    "font = {'family': 'Times New Roman',\n",
    "        #'style': 'italic',  # 修改倾斜程度\n",
    "        'weight': 'normal',  # 修改粗细\n",
    "        'color': 'black',  # 颜色\n",
    "        'size': 14,  # 字体大小\n",
    "        }  # 设置xlabel、title、text等字体设置\n",
    "\n",
    "fig = plt.figure(figsize=(5, 4))\n",
    "\n",
    "# # paint\n",
    "ax1 = fig.add_subplot(1, 1, 1)\n",
    "ax1.scatter(paint_day['albedo'], paint_day['cooling_temperature'], marker='o', color='none', edgecolors='black')\n",
    "ax1.plot(np.arange(0, 1, 0.01), y_paint, color='red')\n",
    "# 横轴\n",
    "ax1.set_xlim((0.28, 0.57))\n",
    "ax1.set_xticks(np.arange(0.3, 0.6, 0.05))\n",
    "ax1.set_xticklabels([0.3, 0.35, 0.4, 0.45, 0.5, 0.55], fontdict=font)\n",
    "ax1.set_xlabel('Average daytime Albedo of AC', fontdict=font)\n",
    "# 纵轴\n",
    "ax1.set_ylim((1.2, 6.8))\n",
    "ax1.set_yticks(np.arange(2, 7, 1))\n",
    "ax1.set_yticklabels(np.arange(2, 7, 1), fontdict=font)\n",
    "ax1.set_ylabel('The daytime cooling temperature of AC(℃)', fontdict=font)\n",
    "ax1.text(0.287, 6.335, 'y=' + str(np.poly1d(paint_line[:2]))[2:], color='red', fontdict=font)\n",
    "if paint_line[3] < 0.01:\n",
    "    ax1.text(0.287, 5.9, 'P < 0.01' + '   ' + r'$\\rmR^2=$' + str(round(paint_line[2] ** 2, 2)), color='red', fontdict=font)\n",
    "else:\n",
    "    ax1.text(0.287, 5.9, 'P=' + str(round(paint_line[3], 2)) + '   ' + r'$\\rmR^2=$' + str(round(paint_line[2] ** 2, 2)), color='red', fontdict=font)\n",
    "ax1.text(0.5475, 1.46, '(a)', fontdict=font)\n",
    "\n",
    "plt.savefig(r'C:\\Users\\NH4NO3nice\\Desktop\\2022 大创项目\\实验数据处理\\paint冷却温度与反照率的关系.svg', bbox_inches='tight', pad_inches=0.1)"
   ]
  },
  {
   "cell_type": "code",
   "execution_count": null,
   "id": "61228007",
   "metadata": {},
   "outputs": [],
   "source": [
    "# 设置字体格式\n",
    "font = {'family': 'Times New Roman',\n",
    "        #'style': 'italic',  # 修改倾斜程度\n",
    "        'weight': 'normal',  # 修改粗细\n",
    "        'color': 'black',  # 颜色\n",
    "        'size': 14,  # 字体大小\n",
    "        }  # 设置xlabel、title、text等字体设置\n",
    "\n",
    "fig = plt.figure(figsize=(5, 4))\n",
    "\n",
    "# # paint\n",
    "ax1 = fig.add_subplot(1, 1, 1)\n",
    "ax1.scatter(paint_day['albedo'], paint_day['cooling_temperature'], marker='o', color='none', edgecolors='black')\n",
    "ax1.plot(np.arange(0, 1, 0.01), y_paint, color='red')\n",
    "# 横轴\n",
    "ax1.set_xlim((0.28, 0.57))\n",
    "ax1.set_xticks(np.arange(0.3, 0.6, 0.05))\n",
    "ax1.set_xticklabels([0.3, 0.35, 0.4, 0.45, 0.5, 0.55], fontdict=font)\n",
    "ax1.set_xlabel('Albedo of AC', fontdict=font)\n",
    "# 纵轴\n",
    "ax1.set_ylim((1.2, 6.8))\n",
    "ax1.set_yticks(np.arange(2, 7, 1))\n",
    "ax1.set_yticklabels(np.arange(2, 7, 1), fontdict=font)\n",
    "ax1.set_ylabel( 'AC Cooling Temperature(℃)', fontdict=font)\n",
    "ax1.text(0.287, 6.335, 'y=' + str(np.poly1d(paint_line[:2]))[2:], color='red', fontdict=font)\n",
    "ax1.text(0.287, 5.9, 'P=' + str(round(paint_line[3], 2)) + '   ' + r'$\\rmR^2=$' + str(round(paint_line[2] ** 2, 2)), color='red', fontdict=font)\n",
    "ax1.text(0.5475, 1.46, '(a)', fontdict=font)\n",
    "\n",
    "# plt.savefig(r'C:\\Users\\NH4NO3nice\\Desktop\\2022 大创项目\\实验数据处理\\paint冷却温度与反照率的关系.svg', bbox_inches='tight', pad_inches=0.1)"
   ]
  },
  {
   "cell_type": "markdown",
   "id": "98fa6bfd",
   "metadata": {},
   "source": [
    "# 材料反照率随时间的变化图+文献"
   ]
  },
  {
   "cell_type": "code",
   "execution_count": null,
   "id": "e82e0ec6",
   "metadata": {
    "ExecuteTime": {
     "end_time": "2022-10-15T01:33:46.973860Z",
     "start_time": "2022-10-15T01:33:45.961795Z"
    },
    "collapsed": true
   },
   "outputs": [],
   "source": [
    "# # 提取2017-06-08到2017-08-15的数据\n",
    "paint_2017_summer_608 = paint_2017_summer.loc['2017-06-08':'2017-08-15']\n",
    "tpo_2017_summer_608 = tpo_2017_summer.loc['2017-06-08':'2017-08-15']\n",
    "aa_2017_summer_608 = aa_2017_summer.loc['2017-06-08':'2017-08-15']\n",
    "\n",
    "# # 深度复制反照率\n",
    "paint_albedo = copy.deepcopy(paint_2017_summer_608['albedo'])\n",
    "tpo_albedo = copy.deepcopy(tpo_2017_summer_608['albedo'])\n",
    "aa_albedo = copy.deepcopy(aa_2017_summer_608['albedo'])\n",
    "\n",
    "# # 求日平均\n",
    "paint_albedo = pd.DataFrame(paint_albedo)\n",
    "tpo_albedo = pd.DataFrame(tpo_albedo)\n",
    "aa_albedo = pd.DataFrame(aa_albedo)\n",
    "\n",
    "paint_albedo_day = heavy_sampling_method(paint_albedo, '2017-06-08 00:00:00', '2017-08-17 00:00:00', '1D', 'mean', type=3)\n",
    "tpo_albedo_day = heavy_sampling_method(tpo_albedo, '2017-06-08 00:00:00', '2017-08-17 00:00:00', '1D', 'mean', type=3)\n",
    "aa_albedo_day = heavy_sampling_method(aa_albedo, '2017-06-08 00:00:00', '2017-08-17 00:00:00', '1D', 'mean', type=3)"
   ]
  },
  {
   "cell_type": "code",
   "execution_count": 84,
   "id": "9c45f1c3",
   "metadata": {
    "ExecuteTime": {
     "end_time": "2022-10-15T01:33:50.835845Z",
     "start_time": "2022-10-15T01:33:50.815902Z"
    }
   },
   "outputs": [],
   "source": [
    "# # 补全为连续日期\n",
    "def buquan(data):\n",
    "    date = pd.DataFrame([], index=pd.date_range('2017-06-08', '2017-08-15'))\n",
    "    date['num'] = np.arange(len(pd.date_range('2017-06-08', '2017-08-15')))\n",
    "    date['albedo'] = data\n",
    "    return date\n",
    "\n",
    "paint_albedo_day = buquan(paint_albedo_day)\n",
    "tpo_albedo_day = buquan(tpo_albedo_day)\n",
    "aa_albedo_day = buquan(aa_albedo_day)"
   ]
  },
  {
   "attachments": {},
   "cell_type": "markdown",
   "id": "cd290bf7",
   "metadata": {},
   "source": [
    "## 计算paint反照率的时间拟合直线对比"
   ]
  },
  {
   "cell_type": "code",
   "execution_count": 85,
   "id": "e06caa2d",
   "metadata": {
    "ExecuteTime": {
     "end_time": "2022-10-15T01:34:50.479440Z",
     "start_time": "2022-10-15T01:34:50.410442Z"
    }
   },
   "outputs": [],
   "source": [
    "# # paint反照率的时间拟合直线\n",
    "def f_fit(x,y_fit):\n",
    "    a, b = y_fit[0], y_fit[1]\n",
    "    return a * x + b\n",
    "\n",
    "# 一元线性拟合\n",
    "paint_albedo_day.dropna(axis=0, how='any', inplace=True)\n",
    "paint_line = stats.linregress(paint_albedo_day['num'], paint_albedo_day['albedo'])\n",
    "paper1_line = stats.linregress([0, 4 * 365], [0.74, 0.74 * 0.75]) \n",
    "paper2_line = stats.linregress([0, 18 * 30], [0.9, 0.9 * (1 - 0.279)]) \n",
    "\n",
    "# 计算拟合值，绘图使用\n",
    "y_paint = f_fit(np.arange(0, 69), paint_line)\n",
    "y_paper1 = f_fit(np.arange(0, 69), paper1_line)\n",
    "y_paper2 = f_fit(np.arange(0, 69), paper2_line)"
   ]
  },
  {
   "cell_type": "code",
   "execution_count": null,
   "id": "463ac5f4",
   "metadata": {
    "ExecuteTime": {
     "end_time": "2022-10-15T01:46:26.592385Z",
     "start_time": "2022-10-15T01:46:25.915431Z"
    }
   },
   "outputs": [],
   "source": [
    "# 设置字体格式\n",
    "font = {'family': 'Times New Roman',\n",
    "        #'style': 'italic',  # 修改倾斜程度\n",
    "        'weight': 'normal',  # 修改粗细\n",
    "        'color': 'black',  # 颜色\n",
    "        'size': 14,  # 字体大小\n",
    "        }  # 设置xlabel、title、text等字体设置\n",
    "\n",
    "fig, ax = plt.subplots(1, 1)\n",
    "ax.plot(paint_albedo_day['num'], paint_albedo_day['albedo'], marker='^', label='Albedo(AC)')\n",
    "ax.plot(tpo_albedo_day['num'], tpo_albedo_day['albedo'], marker='^', label='Albedo(TPO)')\n",
    "ax.plot(aa_albedo_day['num'], aa_albedo_day['albedo'], marker='^', label='Albedo(SBS)')\n",
    "\n",
    "ax.plot(np.arange(0, 69), y_paint, linestyle='--', linewidth=2, label='Nanjing, China(2017), ' + 'y=' + str(np.poly1d(paint_line[:2]))[2:])\n",
    "ax.plot(np.arange(0, 69), y_paper1, linestyle='--', linewidth=2, label='Athens, Greece(2008), ' + 'y=' + str(np.poly1d(paper1_line[:2]))[2:])\n",
    "ax.plot(np.arange(0, 69), y_paper2, linestyle='--', color='#FFC125', linewidth=2, label='São Carlos, SP, Brazil(2011), ' + 'y=' + str(np.poly1d(paper2_line[:2]))[2:])\n",
    "\n",
    "# # 设置横坐标\n",
    "ax.set_xlim((0, 68))\n",
    "ax.set_xticks(np.arange(0, 68, 5))\n",
    "temp_time = pd.date_range('2017-06-08', '2017-08-15')\n",
    "ticks = []\n",
    "for i in range(0, 68, 5):\n",
    "    month = str(temp_time[i])[6]\n",
    "    day = str(temp_time[i])[8:10]\n",
    "    if day[0] == '0':\n",
    "        day = day[1]\n",
    "    if i == 0:\n",
    "        ticks.append(month + '/' + day + '(' + str(i + 1) + 'st)')\n",
    "    else:\n",
    "        ticks.append(month + '/' + day + '(' + str(i + 1) + 'th)')\n",
    "        \n",
    "ax.set_xticklabels(ticks, rotation=45)\n",
    "\n",
    "# # 设置纵坐标\n",
    "ax.set_ylim((0, 1))\n",
    "ax.set_yticks(np.arange(0, 1.1, 0.1))\n",
    "ax.set_ylabel('Alebdo')\n",
    "\n",
    "ax.text(63.5, 0.05, '(b)', fontdict=font)\n",
    "\n",
    "# # 设置图例\n",
    "ax.legend(ncol=1, loc='lower left', fontsize=7)\n",
    "# plt.savefig(r'C:\\Users\\NH4NO3nice\\Desktop\\2022 大创项目\\实验数据处理\\20170608-20170815反照率随时间的变化.svg', bbox_inches='tight', pad_inches=0.1)"
   ]
  },
  {
   "cell_type": "markdown",
   "id": "8af1f072",
   "metadata": {},
   "source": [
    "# paint反照率2017年重涂前后随时间的变化"
   ]
  },
  {
   "cell_type": "code",
   "execution_count": 388,
   "id": "f91a305d",
   "metadata": {},
   "outputs": [],
   "source": [
    "# # paint反照率的时间拟合直线\n",
    "def f_fit(x,y_fit):\n",
    "    a, b = y_fit[0], y_fit[1]\n",
    "    return a * x + b\n",
    "\n",
    "\n",
    "class preprocess_paint():\n",
    "\n",
    "    def __init__(self, start_time, end_time):\n",
    "        self.start_time = start_time\n",
    "        self.end_time = end_time\n",
    "\n",
    "    def getData_mean1d_line(self, paint_2017, roof_2017):\n",
    "        # # 提取指定段的数据\n",
    "        paint_2017_401 = paint_2017.loc[self.start_time:self.end_time]\n",
    "        roof_2017_401 = roof_2017.loc[self.start_time:self.end_time]\n",
    "\n",
    "        # # 深度复制反照率\n",
    "        paint_albedo = copy.deepcopy(paint_2017_401['albedo'])\n",
    "        roof_albedo = copy.deepcopy(roof_2017_401['albedo'])\n",
    "\n",
    "        # # 求日平均\n",
    "        paint_albedo = pd.DataFrame(paint_albedo)\n",
    "        roof_albedo = pd.DataFrame(roof_albedo)\n",
    "\n",
    "        self.paint_albedo_day = heavy_sampling_method(paint_albedo, '2017-01-01 00:00:00', '2017-08-17 00:00:00', '1D', 'mean', type=3)\n",
    "        self.roof_albedo_day = heavy_sampling_method(roof_albedo, '2017-01-01 00:00:00', '2017-08-17 00:00:00', '1D', 'mean', type=3)\n",
    "\n",
    "        # # 补全为连续日期\n",
    "        self.paint_albedo_day = self.buquan(self.paint_albedo_day)\n",
    "        self.roof_albedo_day = self.buquan(self.roof_albedo_day)\n",
    "\n",
    "        # # 一元线性拟合\n",
    "        self.paint_albedo_day.dropna(axis=0, how='any', inplace=True)\n",
    "        self.paint_line = stats.linregress(self.paint_albedo_day['num'], self.paint_albedo_day['albedo'])\n",
    "        self.paper1_line = stats.linregress([0, 4 * 365], [0.74, 0.74 * 0.75]) \n",
    "        self.paper2_line = stats.linregress([0, 18 * 30], [0.9, 0.9 * (1 - 0.279)]) \n",
    "\n",
    "        # 计算拟合值，绘图使用\n",
    "        self.y_paint = f_fit(np.arange(0, 69), self.paint_line)\n",
    "        self.y_paper1 = f_fit(np.arange(0, 69), self.paper1_line)\n",
    "        self.y_paper2 = f_fit(np.arange(0, 69), self.paper2_line)\n",
    "\n",
    "    # # 补全为连续日期\n",
    "    def buquan(self, data):\n",
    "        date = pd.DataFrame([], index=pd.date_range(self.start_time, self.end_time))\n",
    "        date['num'] = np.arange(len(pd.date_range(self.start_time, self.end_time)))\n",
    "        date['albedo'] = data\n",
    "        return date"
   ]
  },
  {
   "cell_type": "markdown",
   "id": "fec63925",
   "metadata": {},
   "source": [
    "## 计算"
   ]
  },
  {
   "cell_type": "code",
   "execution_count": null,
   "id": "41ba7189",
   "metadata": {},
   "outputs": [],
   "source": [
    "# # 重涂前\n",
    "repaint_401 = preprocess_paint('2017-04-01', '2017-06-07')  # 创建实例\n",
    "repaint_401.getData_mean1d_line(paint_2017, roof_2017)\n",
    "\n",
    "# # 重涂后\n",
    "repaint_608 = preprocess_paint('2017-06-08', '2017-08-15')  # 创建实例\n",
    "repaint_608.getData_mean1d_line(paint_2017, roof_2017)"
   ]
  },
  {
   "cell_type": "markdown",
   "id": "b4452c23",
   "metadata": {},
   "source": [
    "## 绘图"
   ]
  },
  {
   "cell_type": "code",
   "execution_count": null,
   "id": "d0abaae5",
   "metadata": {},
   "outputs": [],
   "source": [
    "# 设置字体格式\n",
    "font = {'family': 'Times New Roman',\n",
    "        #'style': 'italic',  # 修改倾斜程度\n",
    "        'weight': 'normal',  # 修改粗细\n",
    "        'color': 'black',  # 颜色\n",
    "        'size': 14,  # 字体大小\n",
    "        }  # 设置xlabel、title、text等字体设置\n",
    "\n",
    "fig = plt.figure(figsize=(10, 4))\n",
    "# # 重涂前\n",
    "ax1 = fig.add_subplot(1, 2, 1)\n",
    "ax1.scatter(repaint_401.paint_albedo_day['num'], repaint_401.paint_albedo_day['albedo'], marker='^', label='Albedo(AC)', color='#1F77B4')\n",
    "ax1.scatter(repaint_401.roof_albedo_day['num'], repaint_401.roof_albedo_day['albedo'], marker='^', label='Albedo(Roof)', color='#000000')\n",
    "\n",
    "# ax1.plot(np.arange(0, 69), f_fit(np.arange(58, 58 + 69), repaint_608.paint_line), linestyle='--', linewidth=2, \n",
    "#         label='AC: ' + 'y=' + str(np.poly1d(repaint_608.paint_line[:2]))[2:]+ '   ' + \n",
    "#         'P < 0.01' + '   ' +\n",
    "#         r'$\\rmR^2=$' + str(round(repaint_608.paint_line[2] ** 2, 2)), color='#1F77B4')\n",
    "ax1.plot([], [], linestyle='--', linewidth=2, \n",
    "        label='AC: ' + 'y=' + str(np.poly1d(repaint_608.paint_line[:2]))[2:]+ '   ' + \n",
    "        'P < 0.01' + '   ' +\n",
    "        r'$\\rmR^2=$' + str(round(repaint_608.paint_line[2] ** 2, 2)), color='#1F77B4')\n",
    "# ax.plot(np.arange(0, 69), repaint_401.y_paper1, linestyle='--', linewidth=2, label='Athens, Greece(2008),' + 'y=' + str(np.poly1d(repaint_401.paper1_line[:2]))[2:])\n",
    "# ax.plot(np.arange(0, 69), repaint_401.y_paper2, linestyle='--', color='#FFC125', linewidth=2, label='São Carlos, SP, Brazil(2011), ' + 'y=' + str(np.poly1d(repaint_401.paper2_line[:2]))[2:])\n",
    "\n",
    "# # 设置横坐标\n",
    "ax1.set_xlim((0, 68))\n",
    "ax1.set_xticks(np.arange(0, 68, 5))\n",
    "ax1.set_xticklabels(np.arange(58, 58 + 68, 5), fontdict=font)\n",
    "ax1.set_xlabel('Days after the first application', fontdict=font)\n",
    "\n",
    "# # 设置纵坐标\n",
    "ax1.set_ylim((0.05, 0.8))\n",
    "ax1.set_yticks(np.arange(0.1, 0.9, 0.2))\n",
    "ax1.set_yticklabels([0.1, 0.3, 0.5, 0.7], fontdict=font)\n",
    "ax1.set_ylabel('Alebdo', fontdict=font)\n",
    "# # 设置标号\n",
    "ax1.text(62, 0.086, '(c)', fontdict=font)\n",
    "\n",
    "# # 重涂后\n",
    "ax2 = fig.add_subplot(1, 2, 2)\n",
    "ax2.scatter(repaint_608.paint_albedo_day['num'], repaint_608.paint_albedo_day['albedo'], marker='^', label='Albedo(AC)', color='#1F77B4')\n",
    "ax2.scatter(repaint_608.roof_albedo_day['num'], repaint_608.roof_albedo_day['albedo'], marker='^', label='Albedo(Roof)', color='#000000')\n",
    "\n",
    "ax2.plot(np.arange(0, 69), repaint_608.y_paint, linestyle='--', linewidth=2, \n",
    "        label='AC: ' + 'y=' + str(np.poly1d(repaint_608.paint_line[:2]))[2:] + '   ' + \n",
    "        'P < 0.01' + '   ' +\n",
    "        r'$\\rmR^2=$' + str(round(repaint_608.paint_line[2] ** 2, 2)), color='#1F77B4')\n",
    "# ax.plot(np.arange(0, 69), repaint_608.y_paper1, linestyle='--', linewidth=2, label='Athens, Greece(2008),' + 'y=' + str(np.poly1d(repaint_608.paper1_line[:2]))[2:])\n",
    "# ax.plot(np.arange(0, 69), repaint_608.y_paper2, linestyle='--', color='#FFC125', linewidth=2, label='São Carlos, SP, Brazil(2011), ' + 'y=' + str(np.poly1d(repaint_608.paper2_line[:2]))[2:])\n",
    "\n",
    "# # 设置横坐标\n",
    "ax2.set_xlim((0, 68))\n",
    "ax2.set_xticks(np.arange(0, 68, 5))\n",
    "ax2.set_xticklabels(np.arange(1, 68, 5), fontdict=font)\n",
    "ax2.set_xlabel('Days after the second application', fontdict=font)\n",
    "\n",
    "# # 设置纵坐标\n",
    "ax2.set_ylim((0.05, 0.8))\n",
    "ax2.set_yticks([])\n",
    "# # 设置标号\n",
    "ax2.text(62.5, 0.086, '(d)', fontdict=font)\n",
    "\n",
    "# # 设置图例\n",
    "ax1.legend(ncol=1, loc='upper left', fontsize=10)\n",
    "\n",
    "plt.subplots_adjust(wspace=0.038, hspace=0.)\n",
    "plt.savefig(r'C:\\Users\\NH4NO3nice\\Desktop\\2022 大创项目\\实验数据处理\\paint重涂前后反照率随时间的变化.svg', bbox_inches='tight', pad_inches=0.1)"
   ]
  },
  {
   "cell_type": "markdown",
   "id": "0ca5b17e",
   "metadata": {},
   "source": [
    "# 清扫TPO表面之后，反照率随时间的变化拟合"
   ]
  },
  {
   "cell_type": "markdown",
   "id": "fa217f9e",
   "metadata": {},
   "source": [
    "## 获取清扫TPO表面之后白天的数据"
   ]
  },
  {
   "cell_type": "code",
   "execution_count": 374,
   "id": "7936fa10",
   "metadata": {},
   "outputs": [],
   "source": [
    "roof_qingsao = roof.loc['2017-06-28':]\n",
    "tpo_qingsao = tpo.loc['2017-06-28':]\n",
    "aa_qingsao = aa.loc['2017-06-28':]\n",
    "\n",
    "# # 提取白天的数据6:00-17:00\n",
    "daytime_roof_qingsao = roof_qingsao.loc[roof_qingsao.index.hour.isin(np.arange(10, 14))]\n",
    "daytime_tpo_qingsao = tpo_qingsao.loc[tpo_qingsao.index.hour.isin(np.arange(10, 14))]\n",
    "daytime_aa_qingsao = aa_qingsao.loc[aa_qingsao.index.hour.isin(np.arange(10, 14))]"
   ]
  },
  {
   "cell_type": "markdown",
   "id": "de72e6aa",
   "metadata": {},
   "source": [
    "## 计算白天平均数据"
   ]
  },
  {
   "cell_type": "code",
   "execution_count": null,
   "id": "ceb522a7",
   "metadata": {},
   "outputs": [],
   "source": [
    "daytime_roof_qingsao_1d = heavy_sampling_method(daytime_roof_qingsao, '2017-01-01 00:00:00', '2021-01-01 00:00:00', '1d', 'mean', type=3)\n",
    "daytime_tpo_qingsao_1d = heavy_sampling_method(daytime_tpo_qingsao, '2017-01-01 00:00:00', '2021-01-01 00:00:00', '1d', 'mean', type=3)\n",
    "daytime_aa_qingsao_1d = heavy_sampling_method(daytime_aa_qingsao, '2017-01-01 00:00:00', '2021-01-01 00:00:00', '1d', 'mean', type=3)"
   ]
  },
  {
   "cell_type": "markdown",
   "id": "e6e28284",
   "metadata": {},
   "source": [
    "## 异常值剔除"
   ]
  },
  {
   "cell_type": "code",
   "execution_count": 376,
   "id": "69c587fb",
   "metadata": {},
   "outputs": [],
   "source": [
    "daytime_roof_qingsao_1d['albedo'] = del_data_3sigma(daytime_roof_qingsao_1d['albedo'])\n",
    "daytime_tpo_qingsao_1d['albedo'] = del_data_3sigma(daytime_tpo_qingsao_1d['albedo'])\n",
    "daytime_aa_qingsao_1d['albedo'] = del_data_3sigma(daytime_aa_qingsao_1d['albedo'])\n",
    "\n",
    "daytime_roof_qingsao_1d['albedo'] = del_data_3sigma(daytime_roof_qingsao_1d['albedo'])\n",
    "daytime_tpo_qingsao_1d['albedo'] = del_data_3sigma(daytime_tpo_qingsao_1d['albedo'])\n",
    "daytime_aa_qingsao_1d['albedo'] = del_data_3sigma(daytime_aa_qingsao_1d['albedo'])\n",
    "\n",
    "daytime_roof_qingsao_1d['albedo'] = del_data_3sigma(daytime_roof_qingsao_1d['albedo'])\n",
    "daytime_tpo_qingsao_1d['albedo'] = del_data_3sigma(daytime_tpo_qingsao_1d['albedo'])\n",
    "daytime_aa_qingsao_1d['albedo'] = del_data_3sigma(daytime_aa_qingsao_1d['albedo'])\n",
    "\n",
    "daytime_roof_qingsao_1d['albedo'] = del_data_3sigma(daytime_roof_qingsao_1d['albedo'])\n",
    "daytime_tpo_qingsao_1d['albedo'] = del_data_3sigma(daytime_tpo_qingsao_1d['albedo'])\n",
    "daytime_aa_qingsao_1d['albedo'] = del_data_3sigma(daytime_aa_qingsao_1d['albedo'])\n",
    "\n",
    "daytime_roof_qingsao_1d['albedo'] = del_data_3sigma(daytime_roof_qingsao_1d['albedo'])\n",
    "daytime_tpo_qingsao_1d['albedo'] = del_data_3sigma(daytime_tpo_qingsao_1d['albedo'])\n",
    "daytime_aa_qingsao_1d['albedo'] = del_data_3sigma(daytime_aa_qingsao_1d['albedo'])"
   ]
  },
  {
   "cell_type": "markdown",
   "id": "ac0ebfdc",
   "metadata": {},
   "source": [
    "## 回归分析"
   ]
  },
  {
   "cell_type": "code",
   "execution_count": 219,
   "id": "822d8c11",
   "metadata": {},
   "outputs": [],
   "source": [
    "# # 深拷贝\n",
    "roof_1d_abeldo = copy.deepcopy(daytime_roof_qingsao_1d['albedo'])\n",
    "tpo_1d_abeldo = copy.deepcopy(daytime_tpo_qingsao_1d['albedo'])\n",
    "aa_1d_abeldo = copy.deepcopy(daytime_aa_qingsao_1d['albedo'])\n",
    "\n",
    "# # 补全\n",
    "def buquan(time, data):\n",
    "    temp = pd.DataFrame(np.arange(len(time)), index=time)\n",
    "    temp['albedo'] = data\n",
    "    return temp['albedo']\n",
    "\n",
    "time_roof = pd.date_range(roof_1d_abeldo.index[0], roof_1d_abeldo.index[-1], freq='1d')\n",
    "time_tpo = pd.date_range(tpo_1d_abeldo.index[0], tpo_1d_abeldo.index[-1], freq='1d')\n",
    "time_aa = pd.date_range(aa_1d_abeldo.index[0], aa_1d_abeldo.index[-1], freq='1d')\n",
    "\n",
    "roof_1d_abeldo = buquan(time_roof, roof_1d_abeldo)\n",
    "tpo_1d_abeldo = buquan(time_tpo, tpo_1d_abeldo)\n",
    "aa_1d_abeldo = buquan(time_aa, aa_1d_abeldo)\n",
    "\n",
    "# # 考虑缺测，虽然要去除缺测，但是索引仍然考虑缺测\n",
    "# 将索引换成编号\n",
    "roof_1d_abeldo.index = np.arange(1, len(roof_1d_abeldo) + 1)\n",
    "tpo_1d_abeldo.index = np.arange(1, len(tpo_1d_abeldo) + 1)\n",
    "aa_1d_abeldo.index = np.arange(1, len(aa_1d_abeldo) + 1)\n",
    "# 去除缺测，保留原索引\n",
    "roof_1d_abeldo.dropna(axis=0, how='all', inplace=True)\n",
    "tpo_1d_abeldo.dropna(axis=0, how='all', inplace=True)\n",
    "aa_1d_abeldo.dropna(axis=0, how='all', inplace=True)\n",
    "\n",
    "def f_fit(x,y_fit):\n",
    "    a, b = y_fit[0], y_fit[1]\n",
    "    return a * x + b\n",
    "\n",
    "# 一元线性拟合\n",
    "roof_line = stats.linregress(roof_1d_abeldo.index, roof_1d_abeldo) \n",
    "tpo_line = stats.linregress(tpo_1d_abeldo.index, tpo_1d_abeldo)\n",
    "aa_line = stats.linregress(aa_1d_abeldo.index, aa_1d_abeldo)\n",
    "\n",
    "# 计算拟合值，绘图使用\n",
    "y_roof = f_fit(np.arange(len(time_roof)), roof_line)\n",
    "y_tpo = f_fit(np.arange(len(time_tpo)), tpo_line)\n",
    "y_aa = f_fit(np.arange(len(time_aa)), aa_line)"
   ]
  },
  {
   "cell_type": "markdown",
   "id": "fe4d137a",
   "metadata": {},
   "source": [
    "## 绘图"
   ]
  },
  {
   "cell_type": "code",
   "execution_count": null,
   "id": "96176781",
   "metadata": {},
   "outputs": [],
   "source": [
    "# 设置字体格式\n",
    "font = {'family': 'Times New Roman',\n",
    "        #'style': 'italic',  # 修改倾斜程度\n",
    "        'weight': 'normal',  # 修改粗细\n",
    "        'color': 'black',  # 颜色\n",
    "        'size': 14,  # 字体大小\n",
    "        }  # 设置xlabel、title、text等字体设置\n",
    "\n",
    "fig = plt.figure(figsize=(10, 2.8), dpi=300)\n",
    "# # 反照率\n",
    "ax = fig.add_subplot(1, 1, 1)\n",
    "ax.scatter(daytime_roof_qingsao_1d.index, daytime_roof_qingsao_1d['albedo'], s=5, label='roof')\n",
    "ax.scatter(daytime_tpo_qingsao_1d.index, daytime_tpo_qingsao_1d['albedo'], s=5, label='TPO')\n",
    "ax.scatter(daytime_aa_qingsao_1d.index, daytime_aa_qingsao_1d['albedo'], s=5, label='SBS')\n",
    "\n",
    "ax.plot(time_roof, y_roof, linestyle='--', linewidth=1.5)\n",
    "ax.plot(time_tpo, y_tpo, linestyle='--', linewidth=1.5)\n",
    "ax.plot(time_aa, y_aa, linestyle='--', linewidth=1.5)\n",
    "# 纵坐标刻度和标签\n",
    "ax.set_ylabel('Albedo', fontdict=font)\n",
    "ax.set_ylim((0.1, 0.95))\n",
    "ax.set_yticks([0.2, 0.4, 0.6, 0.8])\n",
    "ax.set_yticklabels([0.2, 0.4, 0.6, 0.8], fontdict=font)\n",
    "# 横坐标刻度和标签\n",
    "ax.set_xlim((datetime.strptime('2017-06-28', '%Y-%m-%d'),datetime.strptime('2020-10-14', '%Y-%m-%d')))\n",
    "ax.set_xlabel('Days after cleaning TPO membrane', fontdict=font)\n",
    "ax.set_xticks(pd.date_range('2017-06-28', '2020-10-11', freq='100D'))\n",
    "ax.set_xticklabels(np.arange(1, 1211, 100), fontdict=font)\n",
    "# 图例\n",
    "# ax.legend(loc='upper right', ncol=3, fontsize=10, columnspacing=0.3, handletextpad=0.2)\n",
    "# 标注\n",
    "x1 = datetime.strptime('2018-07-01', '%Y-%m-%d')\n",
    "x2 = datetime.strptime('2019-04-01', '%Y-%m-%d')\n",
    "x3 = datetime.strptime('2017-12-01', '%Y-%m-%d')\n",
    "\n",
    "ax.annotate('y=' + str(np.poly1d(aa_line[:2]))[2:] + '   ' + \n",
    "            'P < 0.01' + '   ' + \n",
    "            r'$\\rmR^2=$' + str(round(aa_line[2] ** 2, 2)), xy=(x1, 0.66), xycoords='data',\n",
    "            xytext=(5, 35), textcoords='offset points',\n",
    "            arrowprops=dict(arrowstyle='->', connectionstyle='arc3,rad=0.2'))\n",
    "ax.annotate('y=' + str(np.poly1d(tpo_line[:2]))[2:] + '   ' + \n",
    "            'P < 0.01' + '   ' + \n",
    "            r'$\\rmR^2=$' + str(round(tpo_line[2] ** 2, 2)), xy=(x2, 0.432), xycoords='data',\n",
    "            xytext=(2, 45), textcoords='offset points',\n",
    "            arrowprops=dict(arrowstyle='->', connectionstyle='arc3,rad=0.2'))\n",
    "ax.annotate('y=' + str(np.poly1d(roof_line[:2]))[2:] + '   ' + \n",
    "            'P < 0.01' + '   ' + \n",
    "            r'$\\rmR^2=$' + str(round(roof_line[2] ** 2, 2)), xy=(x3, 0.224), xycoords='data',\n",
    "            xytext=(5, 20), textcoords='offset points',\n",
    "            arrowprops=dict(arrowstyle='->', connectionstyle='arc3,rad=0.2'))\n",
    "\n",
    "# # 添加图标\n",
    "x4 = datetime.strptime('2020-08-25', '%Y-%m-%d')\n",
    "ax.text(x4, 0.85, '(e)', fontdict=font)\n",
    "\n",
    "# plt.savefig(r'C:\\Users\\NH4NO3nice\\Desktop\\2022 大创项目\\实验数据处理\\2018-2020反照率随时间的变化.svg', bbox_inches='tight', pad_inches=0.1)"
   ]
  },
  {
   "cell_type": "markdown",
   "id": "ffb7c631",
   "metadata": {},
   "source": [
    "## 更改拟合初值"
   ]
  },
  {
   "cell_type": "code",
   "execution_count": 378,
   "id": "e23b50d3",
   "metadata": {},
   "outputs": [],
   "source": [
    "# # 深拷贝\n",
    "roof_1d_abeldo = copy.deepcopy(daytime_roof_qingsao_1d['albedo'])\n",
    "tpo_1d_abeldo = copy.deepcopy(daytime_tpo_qingsao_1d['albedo'])\n",
    "aa_1d_abeldo = copy.deepcopy(daytime_aa_qingsao_1d['albedo'])\n",
    "\n",
    "# # 补全\n",
    "def buquan(time, data):\n",
    "    temp = pd.DataFrame(np.arange(len(time)), index=time)\n",
    "    temp['albedo'] = data\n",
    "    return temp['albedo']\n",
    "\n",
    "time_roof = pd.date_range(roof_1d_abeldo.index[0], roof_1d_abeldo.index[-1], freq='1d')\n",
    "time_tpo = pd.date_range(tpo_1d_abeldo.index[0], tpo_1d_abeldo.index[-1], freq='1d')\n",
    "time_aa = pd.date_range(aa_1d_abeldo.index[0], aa_1d_abeldo.index[-1], freq='1d')\n",
    "\n",
    "roof_1d_abeldo = buquan(time_roof, roof_1d_abeldo)\n",
    "tpo_1d_abeldo = buquan(time_tpo, tpo_1d_abeldo)\n",
    "aa_1d_abeldo = buquan(time_aa, aa_1d_abeldo)\n",
    "\n",
    "# # 考虑缺测，虽然要去除缺测，但是索引仍然考虑缺测\n",
    "# 将索引换成编号\n",
    "roof_1d_abeldo.index = np.arange(146, 146 + len(roof_1d_abeldo))\n",
    "tpo_1d_abeldo.index = np.arange(146, 146 + len(tpo_1d_abeldo))\n",
    "aa_1d_abeldo.index = np.arange(146, 146 + len(aa_1d_abeldo))\n",
    "# 去除缺测，保留原索引\n",
    "roof_1d_abeldo.dropna(axis=0, how='all', inplace=True)\n",
    "tpo_1d_abeldo.dropna(axis=0, how='all', inplace=True)\n",
    "aa_1d_abeldo.dropna(axis=0, how='all', inplace=True)\n",
    "\n",
    "\n",
    "# # 设置拟合函数形式\n",
    "def func_aa(x, a):\n",
    "    return a * x + 0.92\n",
    "def func_tpo(x, a):\n",
    "    return a * x + 0.45\n",
    "def func_roof(x, a, b):\n",
    "    return a * x + b\n",
    "popt_roof, pcov_roof = curve_fit(func_roof, roof_1d_abeldo.index, roof_1d_abeldo)\n",
    "popt_tpo, pcov_tpo = curve_fit(func_tpo, tpo_1d_abeldo.index, tpo_1d_abeldo)\n",
    "popt_aa, pcov_aa = curve_fit(func_aa, aa_1d_abeldo.index, aa_1d_abeldo)\n",
    "\n",
    "y_roof = [x * popt_roof[0] + popt_roof[1] for x in np.arange(146, 146 + len(time_roof))]\n",
    "y_tpo = [x * popt_tpo[0] + 0.45 for x in np.arange(146, 146 + len(time_tpo))]\n",
    "y_aa = [x * popt_aa[0] + 0.92 for x in np.arange(146, 146 + len(time_aa))]\n",
    "\n",
    "# # 计算R方和P值\n",
    "def P_R2(y1, y2):\n",
    "    y1 = np.array(y1)\n",
    "    y2 = np.array(y2)\n",
    "    t, p = stats.ttest_ind(y1, y2)\n",
    "    \n",
    "    # 计算相关系数\n",
    "    Sy1y2 = np.sum((y1 - np.mean(y1)) * (y2 - np.mean(y2)))\n",
    "    Sy1 = np.sqrt(np.sum((y1 - np.mean(y1)) ** 2))\n",
    "    Sy2 = np.sqrt(np.sum((y2 - np.mean(y2)) ** 2))\n",
    "    r = Sy1y2 / (Sy1 * Sy2)\n",
    "    return p, r ** 2\n",
    "\n",
    "p_roof, R2_roof = P_R2(roof_1d_abeldo, func_roof(roof_1d_abeldo.index, popt_roof[0], popt_roof[1]))\n",
    "p_tpo, R2_tpo = P_R2(tpo_1d_abeldo, func_tpo(tpo_1d_abeldo.index, popt_tpo[0]))\n",
    "p_aa, R2_aa = P_R2(aa_1d_abeldo, func_aa(aa_1d_abeldo.index, popt_aa[0]))"
   ]
  },
  {
   "cell_type": "code",
   "execution_count": null,
   "id": "9042ab34",
   "metadata": {},
   "outputs": [],
   "source": [
    "# 设置字体格式\n",
    "font = {'family': 'Times New Roman',\n",
    "        #'style': 'italic',  # 修改倾斜程度\n",
    "        'weight': 'normal',  # 修改粗细\n",
    "        'color': 'black',  # 颜色\n",
    "        'size': 14,  # 字体大小\n",
    "        }  # 设置xlabel、title、text等字体设置\n",
    "\n",
    "fig = plt.figure(figsize=(10, 2.8), dpi=300)\n",
    "# # 反照率\n",
    "ax = fig.add_subplot(1, 1, 1)\n",
    "ax.scatter(daytime_roof_qingsao_1d.index, daytime_roof_qingsao_1d['albedo'], s=5, label='roof', color='#000000')\n",
    "ax.scatter(daytime_tpo_qingsao_1d.index, daytime_tpo_qingsao_1d['albedo'], s=5, label='TPO', color='#FF7E0E')\n",
    "ax.scatter(daytime_aa_qingsao_1d.index, daytime_aa_qingsao_1d['albedo'], s=5, label='SBS', color='#2CA02C')\n",
    "\n",
    "ax.plot(time_roof, y_roof, linestyle='--', linewidth=2, color='#000000')\n",
    "ax.plot(time_tpo, y_tpo, linestyle='--', linewidth=2, color='#FF7E0E')\n",
    "ax.plot(time_aa, y_aa, linestyle='--', linewidth=2, color='#2CA02C')\n",
    "# 纵坐标刻度和标签\n",
    "ax.set_ylabel('Albedo', fontdict=font)\n",
    "ax.set_ylim((0.1, 0.95))\n",
    "ax.set_yticks([0.2, 0.4, 0.6, 0.8])\n",
    "ax.set_yticklabels([0.2, 0.4, 0.6, 0.8], fontdict=font)\n",
    "# 横坐标刻度和标签\n",
    "ax.set_xlim((datetime.strptime('2017-06-28', '%Y-%m-%d'),datetime.strptime('2020-10-14', '%Y-%m-%d')))\n",
    "ax.set_xlabel('Days after cleaning TPO membrane', fontdict=font)\n",
    "ax.set_xticks(pd.date_range('2017-06-28', '2020-10-11', freq='100D'))\n",
    "ax.set_xticklabels(np.arange(146, 1347, 100), fontdict=font)\n",
    "# 图例\n",
    "# ax.legend(loc='upper right', ncol=3, fontsize=10, columnspacing=0.3, handletextpad=0.2)\n",
    "# 标注\n",
    "x1 = datetime.strptime('2018-08-01', '%Y-%m-%d')\n",
    "x2 = datetime.strptime('2019-04-01', '%Y-%m-%d')\n",
    "x3 = datetime.strptime('2017-12-01', '%Y-%m-%d')\n",
    "\n",
    "ax.annotate('y=' + str(round(popt_aa[0], 6)) + 'x + 0.92' +  '   ' + \n",
    "            'P < 0.01' + '   ' + \n",
    "            r'$\\rmR^2=$' + str(round(R2_aa, 2)), xy=(x1, 0.69), xycoords='data',\n",
    "            xytext=(5, 30), textcoords='offset points',\n",
    "            arrowprops=dict(arrowstyle='->', connectionstyle='arc3,rad=0.2'), fontsize=13)\n",
    "ax.annotate('y=' + str(round(popt_tpo[0], 6)) + 'x + 0.45' + '   ' + \n",
    "            'P < 0.01' + '   ' + \n",
    "            r'$\\rmR^2=$' + str(round(R2_tpo, 2)), xy=(x2, 0.412), xycoords='data',\n",
    "            xytext=(2, 60), textcoords='offset points',\n",
    "            arrowprops=dict(arrowstyle='->', connectionstyle='arc3,rad=0.2'), fontsize=13)\n",
    "ax.annotate('y=' + str(round(popt_roof[0], 6)) + 'x + ' + str(round(popt_roof[1], 2)) +  '   ' + \n",
    "            'P < 0.01' + '   ' + \n",
    "            r'$\\rmR^2=$' + str(round(R2_roof, 2)), xy=(x3, 0.21), xycoords='data',\n",
    "            xytext=(5, 20), textcoords='offset points',\n",
    "            arrowprops=dict(arrowstyle='->', connectionstyle='arc3,rad=0.2'), fontsize=13)\n",
    "\n",
    "# # 添加图标\n",
    "x4 = datetime.strptime('2020-08-25', '%Y-%m-%d')\n",
    "ax.text(x4, 0.85, '(e)', fontdict=font)\n",
    "\n",
    "plt.savefig(r'C:\\Users\\NH4NO3nice\\Desktop\\2022 大创项目\\实验数据处理\\2018-2020反照率随时间的变化.svg', bbox_inches='tight', pad_inches=0.1)"
   ]
  },
  {
   "attachments": {},
   "cell_type": "markdown",
   "id": "f39fdcb1",
   "metadata": {},
   "source": [
    "# AA和TPO反照率随时间的变化"
   ]
  },
  {
   "cell_type": "code",
   "execution_count": 393,
   "id": "aa9011db",
   "metadata": {},
   "outputs": [],
   "source": [
    "# # paint反照率的时间拟合直线\n",
    "def f_fit(x,y_fit):\n",
    "    a, b = y_fit[0], y_fit[1]\n",
    "    return a * x + b\n",
    "\n",
    "\n",
    "class preprocess_tpo_aa():\n",
    "\n",
    "    def __init__(self, start_time, end_time, type):\n",
    "        self.start_time = start_time\n",
    "        self.end_time = end_time\n",
    "        self.type = type\n",
    "\n",
    "    def getData_mean1d_line(self, tpo_2017, aa_2017, roof_2017):\n",
    "        # # 提取指定段的数据\n",
    "        aa_2017_401 = aa_2017.loc[self.start_time:self.end_time]\n",
    "        tpo_2017_401 = tpo_2017.loc[self.start_time:self.end_time]\n",
    "        roof_2017_401 = roof_2017.loc[self.start_time:self.end_time]\n",
    "\n",
    "        # # 深度复制反照率\n",
    "        tpo_albedo = copy.deepcopy(tpo_2017_401['albedo'])\n",
    "        aa_albedo = copy.deepcopy(aa_2017_401['albedo'])\n",
    "        roof_albedo = copy.deepcopy(roof_2017_401['albedo'])\n",
    "\n",
    "        # # 求日平均\n",
    "        aa_albedo = pd.DataFrame(aa_albedo)\n",
    "        tpo_albedo = pd.DataFrame(tpo_albedo)\n",
    "        roof_albedo = pd.DataFrame(roof_albedo)\n",
    "\n",
    "        self.tpo_albedo_day = heavy_sampling_method(tpo_albedo, '2017-01-01 00:00:00', '2017-08-17 00:00:00', '1D', 'mean', type=3)\n",
    "        self.aa_albedo_day = heavy_sampling_method(aa_albedo, '2017-01-01 00:00:00', '2017-08-17 00:00:00', '1D', 'mean', type=3)\n",
    "        self.roof_albedo_day = heavy_sampling_method(roof_albedo, '2017-01-01 00:00:00', '2017-08-17 00:00:00', '1D', 'mean', type=3)\n",
    "\n",
    "        # # 补全为连续日期\n",
    "        self.aa_albedo_day = self.buquan(self.aa_albedo_day, self.type)\n",
    "        self.tpo_albedo_day = self.buquan(self.tpo_albedo_day, self.type)\n",
    "        self.roof_albedo_day = self.buquan(self.roof_albedo_day, self.type)\n",
    "\n",
    "        # # 一元线性拟合\n",
    "        self.tpo_albedo_day.dropna(axis=0, how='any', inplace=True)\n",
    "        self.aa_albedo_day.dropna(axis=0, how='any', inplace=True)\n",
    "        self.tpo_line = stats.linregress(self.tpo_albedo_day['num'], self.tpo_albedo_day['albedo'])\n",
    "        self.aa_line = stats.linregress(self.aa_albedo_day['num'], self.aa_albedo_day['albedo'])\n",
    "\n",
    "        # 计算拟合值，绘图使用\n",
    "        self.y_aa = f_fit(np.arange(0, 150), self.aa_line)\n",
    "        self.y_tpo = f_fit(np.arange(0, 150), self.tpo_line)\n",
    "\n",
    "    # # 补全为连续日期\n",
    "    def buquan(self, data, type):\n",
    "        date = pd.DataFrame([], index=pd.date_range(self.start_time, self.end_time))\n",
    "        if type == 'afdedust':\n",
    "            date['num'] = np.arange(1, len(pd.date_range(self.start_time, self.end_time)) + 1)\n",
    "        elif type == 'bededust':\n",
    "            date['num'] = np.arange(58, 58 + len(pd.date_range(self.start_time, self.end_time)))\n",
    "        date['albedo'] = data\n",
    "        return date"
   ]
  },
  {
   "cell_type": "markdown",
   "id": "9d1092ea",
   "metadata": {},
   "source": [
    "## 计算"
   ]
  },
  {
   "cell_type": "code",
   "execution_count": null,
   "id": "014f494f",
   "metadata": {},
   "outputs": [],
   "source": [
    "# # 清灰前\n",
    "deduct_401 = preprocess_tpo_aa('2017-04-01', '2017-06-27', 'bededust')\n",
    "deduct_401.getData_mean1d_line(tpo_2017, aa_2017, roof_2017)\n",
    "\n",
    "# # 清灰后\n",
    "deduct_628 = preprocess_tpo_aa('2017-06-28', '2017-08-15', 'afdedust')\n",
    "deduct_628.getData_mean1d_line(tpo_2017, aa_2017, roof_2017)"
   ]
  },
  {
   "cell_type": "markdown",
   "id": "21f8019d",
   "metadata": {},
   "source": [
    "## 绘图"
   ]
  },
  {
   "cell_type": "code",
   "execution_count": null,
   "id": "89a8a104",
   "metadata": {},
   "outputs": [],
   "source": [
    "# 设置字体格式\n",
    "font = {'family': 'Times New Roman',\n",
    "        #'style': 'italic',  # 修改倾斜程度\n",
    "        'weight': 'normal',  # 修改粗细\n",
    "        'color': 'black',  # 颜色\n",
    "        'size': 14,  # 字体大小\n",
    "        }  # 设置xlabel、title、text等字体设置\n",
    "\n",
    "fig = plt.figure(figsize=(10, 4))\n",
    "# # 清灰前\n",
    "ax1 = fig.add_subplot(1, 2, 1)\n",
    "ax1.scatter(deduct_401.tpo_albedo_day['num'], deduct_401.tpo_albedo_day['albedo'], marker='^', label='Albedo(TPO)', color='#FF7E0E')\n",
    "ax1.scatter(deduct_401.aa_albedo_day['num'], deduct_401.aa_albedo_day['albedo'], marker='^', label='Albedo(SBS)', color='#2CA02C')\n",
    "\n",
    "ax1.plot(np.arange(0, 150), deduct_401.y_tpo, linestyle='--', linewidth=2, \n",
    "        label='TPO: ' + 'y=' + str(np.poly1d(deduct_401.tpo_line[:2]))[2:] + '   ' + \n",
    "        'P=' + str(round(deduct_401.tpo_line[3], 2)) + '   ' + \n",
    "        r'$\\rmR^2=$' + str(round(deduct_401.tpo_line[2] ** 2, 3)), color='#FF7E0E') \n",
    "ax1.plot(np.arange(0, 150), deduct_401.y_aa, linestyle='--', linewidth=2, \n",
    "        label='SBS: ' + 'y=' + str(np.poly1d(deduct_401.aa_line[:2]))[2:] + '   ' + \n",
    "        'P=' + str(round(deduct_401.aa_line[3], 2)) + '   ' + \n",
    "        r'$\\rmR^2=$' + str(round(deduct_401.aa_line[2] ** 2, 3)), color='#2CA02C')\n",
    "\n",
    "# # 设置横坐标\n",
    "ax1.set_xlim((58, 146))\n",
    "ax1.set_xticks(np.arange(58, 146, 10))\n",
    "ax1.set_xticklabels(np.arange(58, 146, 10), fontdict=font)\n",
    "ax1.set_xlabel('Days after first application', fontdict=font)\n",
    "\n",
    "# # 设置纵坐标\n",
    "ax1.set_ylim((0, 1))\n",
    "ax1.set_yticks(np.arange(0, 1.1, 0.2))\n",
    "ax1.set_yticklabels(['0.0', '0.2', '0.4', '0.6', '0.8', '1.0'], fontdict=font)\n",
    "ax1.set_ylabel('Alebdo', fontdict=font)\n",
    "# # 设置标号\n",
    "ax1.text(138.4, 0.04, '(a)', fontdict=font)\n",
    "# # 设置图例\n",
    "ax1.legend(ncol=1, loc='lower left', fontsize=9)\n",
    "\n",
    "# # 清灰后\n",
    "ax2 = fig.add_subplot(1, 2, 2)\n",
    "ax2.scatter(deduct_628.tpo_albedo_day['num'], deduct_628.tpo_albedo_day['albedo'], marker='^', label='Albedo(TPO)', color='#FF7E0E')\n",
    "ax2.scatter(deduct_628.aa_albedo_day['num'], deduct_628.aa_albedo_day['albedo'], marker='^', label='Albedo(SBS)', color='#2CA02C')\n",
    "\n",
    "ax2.plot(np.arange(0, 150), deduct_628.y_tpo, linestyle='--', linewidth=2, \n",
    "        label='TPO: ' + 'y=' + str(np.poly1d(deduct_628.tpo_line[:2]))[2:] + '   ' + \n",
    "        'P=' + str(round(deduct_628.tpo_line[3], 2)) + '   ' + \n",
    "        r'$\\rmR^2=$' + str(round(deduct_628.tpo_line[2] ** 2, 3)), color='#FF7E0E') \n",
    "ax2.plot(np.arange(0, 150), deduct_628.y_aa, linestyle='--', linewidth=2, \n",
    "        label='SBS: ' + 'y=' + str(np.poly1d(deduct_628.aa_line[:2]))[2:] + '   ' + \n",
    "        'P=' + str(round(deduct_628.aa_line[3], 2)) + '   ' + \n",
    "        r'$\\rmR^2=$' + str(round(deduct_628.aa_line[2] ** 2, 3)), color='#2CA02C')\n",
    "\n",
    "# # 设置横坐标\n",
    "ax2.set_xlim((1, 49))\n",
    "ax2.set_xticks(np.arange(1, 50, 5))\n",
    "ax2.set_xticklabels(np.arange(1, 50, 5), fontdict=font)\n",
    "ax2.set_xlabel('Days after dedusting', fontdict=font)\n",
    "\n",
    "# # 设置纵坐标\n",
    "ax2.set_ylim((0, 1))\n",
    "ax2.set_yticks([])\n",
    "# # 设置标号\n",
    "ax2.text(44.9, 0.04, '(b)', fontdict=font)\n",
    "# # 设置图例\n",
    "ax2.legend(ncol=1, loc='lower left', fontsize=9)\n",
    "\n",
    "plt.subplots_adjust(wspace=0.038, hspace=0.)\n",
    "plt.savefig(r'C:\\Users\\NH4NO3nice\\Desktop\\2022 大创项目\\实验数据处理\\tpo-aa清灰前后反照率随时间的变化.svg', bbox_inches='tight', pad_inches=0.1)"
   ]
  },
  {
   "cell_type": "markdown",
   "id": "bd6739bf",
   "metadata": {},
   "source": [
    "# PM10与降水的对比"
   ]
  },
  {
   "cell_type": "markdown",
   "id": "306e934d",
   "metadata": {},
   "source": [
    "## 获取PM10数据"
   ]
  },
  {
   "cell_type": "code",
   "execution_count": null,
   "id": "8513a914",
   "metadata": {},
   "outputs": [],
   "source": [
    "# # 提取PM10的数据\n",
    "path1 = r'C:\\Users\\NH4NO3nice\\Desktop\\Stratospheric ozone intrusion\\\\'\n",
    "path = os.listdir(path1)  # 获取该文件下的所有文件名\n",
    "path = list(filter(lambda x: x[-4:] == '.zip', path))  # 判断files是否是.zip，并返回是.zip的数组\n",
    "path = list(filter(lambda x: x[:7] in ['城市_2017', '城市_2018', '城市_2019', '城市_2020'], path))  # 判断files是否是城市开头，避免其他压缩包\n",
    "\n",
    "# 读取解压后文件夹中的各.csv文件\n",
    "file_csv = []\n",
    "path = [path1 + x[:-4] for x in path]  # 在前面补全解压后文件夹的地址，去掉了'.zip'\n",
    "for i in path:\n",
    "    file_csv = file_csv + get_Innermost_file(i + '\\\\', '.csv')\n",
    "# 提取数据\n",
    "all_data = pd.DataFrame([])\n",
    "data_type = {'date': object, 'hour': object, 'type': object, '南京': np.float32}\n",
    "for f in file_csv:\n",
    "    data = pd.read_csv(f, usecols=['date', 'hour', 'type', '南京'], na_values=' ', dtype=data_type, encoding='UTF-8')\n",
    "    all_data = pd.concat([all_data, data], axis=0)\n",
    "pm10 = all_data[all_data.type == 'PM10']  # 提取PM10的行\n",
    "\n",
    "# 将pm10中的字符串格式的时间转换成时间戳\n",
    "# 将字符串改为2018-01-01 10:00:00这种格式\n",
    "pm10_time = []  # 储存转换好的时间戳\n",
    "for i in range(len(pm10.date)):\n",
    "    pm10_time.append(pm10.date.iloc[i][:4] + '-' + pm10.date.iloc[i][4:6] + '-' + pm10.date.iloc[i][6:8] + ' ' + pm10.hour.iloc[i] + ':00:00')\n",
    "pm10_time = np.array(list([datetime.strptime(x, '%Y-%m-%d %H:%M:%S') for x in pm10_time]))\n",
    "# 将上面的时间格式作为索引\n",
    "pm10.index = pm10_time\n",
    "# 删除多余列\n",
    "pm10.drop(['date', 'hour', 'type'], axis=1, inplace=True)\n",
    "# 修改列名\n",
    "pm10.rename(columns={'南京': 'PM10'}, inplace=True)\n",
    "# # 计算月平均PM10浓度\n",
    "pm10_1mon = heavy_sampling_method(pm10, '2017-01-01 00:00:00', '2021-01-01 00:00:00', '1M', 'mean', type=3)"
   ]
  },
  {
   "cell_type": "markdown",
   "id": "1cdc2ba5",
   "metadata": {},
   "source": [
    "## 获取降水数据"
   ]
  },
  {
   "cell_type": "code",
   "execution_count": null,
   "id": "f18c917c",
   "metadata": {},
   "outputs": [],
   "source": [
    "# # 提取降水数据\n",
    "rain_file = r'C:\\Users\\NH4NO3nice\\Desktop\\2022 大创项目\\实验数据处理\\original_data\\2017-2020年南京站降水量数据.xlsx'\n",
    "rain = pd.read_excel(rain_file, skiprows=[1], usecols=[3, 4, 5, 8])\n",
    "# # 将时间转化为时间格式\n",
    "rain_time = []\n",
    "for i in range(len(rain)):\n",
    "    temp = str(rain.iloc[i, 0]) + '-' + str(rain.iloc[i, 1]) + '-' + str(rain.iloc[i, 2])\n",
    "    rain_time.append(datetime.strptime(temp, '%Y-%m-%d'))\n",
    "rain.index = rain_time\n",
    "# 删除年、月、日列\n",
    "rain.drop(['年', '月', '日'], axis=1, inplace=True)\n",
    "# 修改列名\n",
    "rain.rename(columns={'降水量': 'rainfall'}, inplace=True)\n",
    "# # 计算月平均降水量\n",
    "rain_1mon = heavy_sampling_method(rain, '2017-01-01 00:00:00', '2021-01-01 00:00:00', '1M', 'sum', type=3)"
   ]
  },
  {
   "cell_type": "code",
   "execution_count": 160,
   "id": "1581c592",
   "metadata": {},
   "outputs": [],
   "source": [
    "bu = pd.DataFrame([109, 70.2, 58.3], index=pd.date_range('2020-08-01', '2020-10-01', freq='1MS'), columns=['rainfall'])\n",
    "rain_1mon = pd.concat([rain_1mon, bu], axis=0)"
   ]
  },
  {
   "cell_type": "markdown",
   "id": "21efbacc",
   "metadata": {},
   "source": [
    "## 绘图"
   ]
  },
  {
   "cell_type": "code",
   "execution_count": null,
   "id": "21e7c0e2",
   "metadata": {},
   "outputs": [],
   "source": [
    "# 设置字体格式\n",
    "font = {'family': 'Times New Roman',\n",
    "        #'style': 'italic',  # 修改倾斜程度\n",
    "        'weight': 'normal',  # 修改粗细\n",
    "        'color': 'black',  # 颜色\n",
    "        'size': 14,  # 字体大小\n",
    "        }  # 设置xlabel、title、text等字体设置\n",
    "\n",
    "fig = plt.figure(figsize=(10, 2.8), dpi=300)\n",
    "ax1 = fig.add_subplot(1, 1, 1)\n",
    "# 不显示横坐标标签，但是显示刻度\n",
    "# 生成月份\n",
    "month = [(i-8) % 12 for i in range(43)]\n",
    "for i in range(len(month)):\n",
    "    if month[i] == 0:\n",
    "        month[i] = 12\n",
    "month = month[::2]\n",
    "# 生成年份\n",
    "year = []\n",
    "for i in range(22):\n",
    "    if i < 5:\n",
    "        year.append(2017)\n",
    "    elif i < 11:\n",
    "        year.append(2018)\n",
    "    elif i < 17:\n",
    "        year.append(2019)\n",
    "    else:\n",
    "        year.append(2020)\n",
    "ticks = [datetime.strptime(str(year[i]) + str(month[i]), '%Y%m') for i in range(22)]\n",
    "\n",
    "# # 降水和PM10\n",
    "l1 = ax1.bar(np.arange(43), rain_1mon['rainfall'].loc['2017-04-01':'2020-10-01'], width=0.5, linewidth=4, color='grey', alpha=0.6, label='Precipitation')\n",
    "ax1.set_ylabel('Precipitation (mm)', fontdict=font)\n",
    "# 纵坐标\n",
    "ax1.set_ylim((1, 450))\n",
    "ax1.set_yticks([0, 100, 200, 300, 400])\n",
    "ax1.set_yticklabels([0, 100, 200, 300, 400], fontdict=font)\n",
    "# 设置横坐标月份\n",
    "labels = [(i-8) % 12 for i in range(43)]\n",
    "for i in range(len(labels)):\n",
    "    if labels[i] == 0:\n",
    "        labels[i] = 12\n",
    "ax1.set_xticks(np.arange(0, 43, 2))\n",
    "ax1.set_xticklabels(labels[::2], fontdict=font)\n",
    "# 标记横坐标的年份\n",
    "ax1.set_xlim((-1, 43))\n",
    "ax1.set_title('2017' + ' '* 12 + '|' + ' '* 17 + '2018' + ' '* 17 + '|' + ' '* 17 + '2019' + ' '*17 + '|'+ ' '* 12  + '2020',\n",
    "              x=0.48, y=-0.25, fontdict=font)\n",
    "# 设置文本标签(b)\n",
    "# ax1.text(-2.15, 405, '(b)', fontdict=font)\n",
    "\n",
    "ax2 = ax1.twinx()\n",
    "l2 = ax2.scatter(np.arange(43), pm10_1mon['PM10'].loc['2017-04-01':'2020-10-01'], marker='o', color='none', edgecolors='black', label='PM10')\n",
    "ax2.set_ylabel(r'$\\rm PM_{10}$' + r'$(\\mu g·m^{-3})$', fontdict=font)\n",
    "# 纵坐标\n",
    "ax2.set_ylim((1, 170))\n",
    "ax2.set_yticks([0, 50, 100, 150])\n",
    "ax2.set_yticklabels([0, 50, 100, 150], fontdict=font)\n",
    "# 横坐标名称\n",
    "ax2.set_title('Month', x=0.483, y=-0.35, fontdict=font)\n",
    "\n",
    "ax2.legend(handles=[l1, l2], loc='upper center', ncol=2, fontsize=12, frameon=False, columnspacing=3)\n",
    "# # 调整子图间距，横纵\n",
    "plt.subplots_adjust(wspace=0.0, hspace=0.1)\n",
    "plt.savefig(r'C:\\Users\\NH4NO3nice\\Desktop\\2022 大创项目\\实验数据处理\\降水和灰霾对比图.svg',  bbox_inches='tight', pad_inches=0.1)"
   ]
  },
  {
   "attachments": {},
   "cell_type": "markdown",
   "id": "6e7f4d4f",
   "metadata": {
    "ExecuteTime": {
     "end_time": "2022-09-05T07:05:42.954315Z",
     "start_time": "2022-09-05T07:05:42.939244Z"
    }
   },
   "source": [
    "# 材料老化与降水和灰霾的关系"
   ]
  },
  {
   "cell_type": "markdown",
   "id": "18cd4b28",
   "metadata": {},
   "source": [
    "## 提取PM10数据"
   ]
  },
  {
   "cell_type": "code",
   "execution_count": null,
   "id": "888e84ee",
   "metadata": {},
   "outputs": [],
   "source": [
    "# # 提取PM10的数据\n",
    "path1 = r'C:\\Users\\NH4NO3nice\\Desktop\\Stratospheric ozone intrusion\\\\'\n",
    "path = os.listdir(path1)  # 获取该文件下的所有文件名\n",
    "path = list(filter(lambda x: x[-4:] == '.zip', path))  # 判断files是否是.zip，并返回是.zip的数组\n",
    "path = list(filter(lambda x: x[:7] in ['城市_2017', '城市_2018', '城市_2019', '城市_2020'], path))  # 判断files是否是城市开头，避免其他压缩包\n",
    "\n",
    "# 读取解压后文件夹中的各.csv文件\n",
    "file_csv = []\n",
    "path = [path1 + x[:-4] for x in path]  # 在前面补全解压后文件夹的地址，去掉了'.zip'\n",
    "for i in path:\n",
    "    file_csv = file_csv + get_Innermost_file(i + '\\\\', '.csv')\n",
    "# 提取数据\n",
    "all_data = pd.DataFrame([])\n",
    "data_type = {'date': object, 'hour': object, 'type': object, '南京': np.float32}\n",
    "for f in file_csv:\n",
    "    data = pd.read_csv(f, usecols=['date', 'hour', 'type', '南京'], na_values=' ', dtype=data_type, encoding='UTF-8')\n",
    "    all_data = pd.concat([all_data, data], axis=0)\n",
    "pm10 = all_data[all_data.type == 'PM10']  # 提取PM10的行\n",
    "\n",
    "# 将pm10中的字符串格式的时间转换成时间戳\n",
    "# 将字符串改为2018-01-01 10:00:00这种格式\n",
    "pm10_time = []  # 储存转换好的时间戳\n",
    "for i in range(len(pm10.date)):\n",
    "    pm10_time.append(pm10.date.iloc[i][:4] + '-' + pm10.date.iloc[i][4:6] + '-' + pm10.date.iloc[i][6:8] + ' ' + pm10.hour.iloc[i] + ':00:00')\n",
    "pm10_time = np.array(list([datetime.strptime(x, '%Y-%m-%d %H:%M:%S') for x in pm10_time]))\n",
    "# 将上面的时间格式作为索引\n",
    "pm10.index = pm10_time\n",
    "# 删除多余列\n",
    "pm10.drop(['date', 'hour', 'type'], axis=1, inplace=True)\n",
    "# 修改列名\n",
    "pm10.rename(columns={'南京': 'PM10'}, inplace=True)"
   ]
  },
  {
   "cell_type": "markdown",
   "id": "5d28078d",
   "metadata": {},
   "source": [
    "## 提取降水数据"
   ]
  },
  {
   "cell_type": "code",
   "execution_count": 262,
   "id": "5d2bb194",
   "metadata": {
    "ExecuteTime": {
     "end_time": "2022-09-06T07:01:49.212264Z",
     "start_time": "2022-09-06T07:01:47.940396Z"
    }
   },
   "outputs": [],
   "source": [
    "# # 提取降水数据\n",
    "rain_file = r'C:\\Users\\NH4NO3nice\\Desktop\\2022 大创项目\\实验数据处理\\original_data\\2017-2020年南京站降水量数据.xlsx'\n",
    "rain = pd.read_excel(rain_file, skiprows=[1], usecols=[3, 4, 5, 8])\n",
    "# # 将时间转化为时间格式\n",
    "rain_time = []\n",
    "for i in range(len(rain)):\n",
    "    temp = str(rain.iloc[i, 0]) + '-' + str(rain.iloc[i, 1]) + '-' + str(rain.iloc[i, 2])\n",
    "    rain_time.append(datetime.strptime(temp, '%Y-%m-%d'))\n",
    "rain.index = rain_time\n",
    "# 删除年、月、日列\n",
    "rain.drop(['年', '月', '日'], axis=1, inplace=True)\n",
    "# 修改列名\n",
    "rain.rename(columns={'降水量': 'rainfall'}, inplace=True)"
   ]
  },
  {
   "cell_type": "markdown",
   "id": "a1c0180c",
   "metadata": {},
   "source": [
    "## 计算月平均"
   ]
  },
  {
   "cell_type": "code",
   "execution_count": null,
   "id": "a448f888",
   "metadata": {
    "ExecuteTime": {
     "end_time": "2022-09-06T07:02:40.731700Z",
     "start_time": "2022-09-06T07:02:40.501728Z"
    },
    "collapsed": true
   },
   "outputs": [],
   "source": [
    "# # 计算月总降水量\n",
    "rain_1mon = heavy_sampling_method(rain, '2017-01-01 00:00:00', '2021-01-01 00:00:00', '1M', 'sum', type=3)\n",
    "# # 计算月平均PM10\n",
    "PM10_1mon = heavy_sampling_method(pm10, '2017-01-01 00:00:00', '2021-01-01 00:00:00', '1M', 'mean', type=3)"
   ]
  },
  {
   "cell_type": "markdown",
   "id": "ef7be6e2",
   "metadata": {},
   "source": [
    "## 提取2017-2020年白天反照率"
   ]
  },
  {
   "cell_type": "code",
   "execution_count": null,
   "id": "5f464181",
   "metadata": {
    "ExecuteTime": {
     "end_time": "2022-09-06T07:14:23.590464Z",
     "start_time": "2022-09-06T07:14:16.499004Z"
    },
    "collapsed": true
   },
   "outputs": [],
   "source": [
    "# # 提取反照率数据\n",
    "tpo_albedo = tpo_2017_2020.loc[tpo_2017_2020.index.hour.isin(np.arange(6, 18))].iloc[:, 7]\n",
    "aa_albedo = aa_2017_2020.loc[aa_2017_2020.index.hour.isin(np.arange(6, 18))].iloc[:, 7]\n",
    "\n",
    "# # 3sigma剔除野点\n",
    "tpo_albedo = del_data_3sigma(tpo_albedo)\n",
    "aa_albedo = del_data_3sigma(aa_albedo)\n",
    "\n",
    "tpo_albedo = del_data_3sigma(tpo_albedo)\n",
    "aa_albedo = del_data_3sigma(aa_albedo)\n",
    "\n",
    "tpo_albedo = del_data_3sigma(tpo_albedo)\n",
    "aa_albedo = del_data_3sigma(aa_albedo)\n",
    "\n",
    "# # 转化为DataFrame数组\n",
    "tpo_albedo = pd.DataFrame(tpo_albedo, columns=['albedo'])\n",
    "aa_albedo = pd.DataFrame(aa_albedo, columns=['albedo'])\n",
    "\n",
    "tpo_albedo_1d = heavy_sampling_method(tpo_albedo, '2017-01-01 00:00:00', '2021-01-01 00:00:00', '1d', 'mean', type=3)\n",
    "aa_albedo_1d = heavy_sampling_method(aa_albedo, '2017-01-01 00:00:00', '2021-01-01 00:00:00', '1d', 'mean', type=3)"
   ]
  },
  {
   "cell_type": "markdown",
   "id": "e2f25aaf",
   "metadata": {},
   "source": [
    "## 计算反照率拟合"
   ]
  },
  {
   "cell_type": "code",
   "execution_count": 265,
   "id": "58b1db5d",
   "metadata": {
    "ExecuteTime": {
     "end_time": "2022-09-06T07:17:34.546327Z",
     "start_time": "2022-09-06T07:17:34.519041Z"
    }
   },
   "outputs": [],
   "source": [
    "# # 深拷贝\n",
    "tpo_albedo_1d = copy.deepcopy(tpo_albedo_1d)\n",
    "aa_albedo_1d = copy.deepcopy(aa_albedo_1d)\n",
    "\n",
    "# # 补全\n",
    "def buquan(time, data):\n",
    "    temp = pd.DataFrame(np.arange(58, len(time) + 58), index=time, columns=['num'])\n",
    "    temp['albedo'] = data\n",
    "    return temp\n",
    "\n",
    "time_tpo = pd.date_range(tpo_albedo_1d.index[0], tpo_albedo_1d.index[-1], freq='1D')\n",
    "time_aa = pd.date_range(aa_albedo_1d.index[0], aa_albedo_1d.index[-1], freq='1D')\n",
    "\n",
    "tpo_albedo_1d = buquan(time_tpo, tpo_albedo_1d)\n",
    "aa_albedo_1d = buquan(time_aa, aa_albedo_1d)\n",
    "\n",
    "# # 考虑缺测，虽然要去除缺测，但是索引仍然考虑缺测\n",
    "# 去除缺测，保留原索引\n",
    "tpo_albedo_1d.dropna(axis=0, how='any', inplace=True)\n",
    "aa_albedo_1d.dropna(axis=0, how='any', inplace=True)"
   ]
  },
  {
   "cell_type": "code",
   "execution_count": null,
   "id": "96f76848",
   "metadata": {
    "ExecuteTime": {
     "end_time": "2022-09-06T07:20:24.613116Z",
     "start_time": "2022-09-06T07:20:24.215598Z"
    },
    "collapsed": true
   },
   "outputs": [],
   "source": [
    "def f_fit(x,y_fit):\n",
    "    a, b = y_fit.tolist()\n",
    "    return a * x + b\n",
    "\n",
    "# 一元线性拟合\n",
    "# tpo_line = np.polyfit(tpo_albedo_1d['num'], tpo_albedo_1d['albedo'], 1)\n",
    "# aa_line = np.polyfit(aa_albedo_1d['num'], aa_albedo_1d['albedo'], 1)\n",
    "\n",
    "# # 计算拟合值，绘图使用\n",
    "# tpo_albedo_1d['line'] = f_fit(tpo_albedo_1d['num'], tpo_line)\n",
    "# aa_albedo_1d['line'] = f_fit(aa_albedo_1d['num'], aa_line)\n",
    "\n",
    "# 拟合值与原始值之差\n",
    "tpo_albedo_1d['albedo-line'] = tpo_albedo_1d['albedo'] - func_tpo(tpo_albedo_1d['num'], popt_tpo[0])\n",
    "aa_albedo_1d['albedo-line'] = aa_albedo_1d['albedo'] - func_aa(aa_albedo_1d['num'], popt_aa[0])\n",
    "\n",
    "# 计算差值的月平均\n",
    "tpo_albedo_1mon = heavy_sampling_method(tpo_albedo_1d, '2017-01-01 00:00:00', '2021-01-01 00:00:00', '1M', 'mean', type=3)\n",
    "aa_albedo_1mon = heavy_sampling_method(aa_albedo_1d, '2017-01-01 00:00:00', '2021-01-01 00:00:00', '1M', 'mean', type=3)\n",
    "\n",
    "# 补全降水数据\n",
    "tpo_albedo_1mon['rain'] = rain_1mon\n",
    "aa_albedo_1mon['rain'] = rain_1mon\n",
    "# 补全PM10数据\n",
    "tpo_albedo_1mon['PM10'] = PM10_1mon\n",
    "aa_albedo_1mon['PM10'] = PM10_1mon"
   ]
  },
  {
   "cell_type": "markdown",
   "id": "afef7f1d",
   "metadata": {},
   "source": [
    "## 反照率差值与降水关系"
   ]
  },
  {
   "cell_type": "code",
   "execution_count": null,
   "id": "3cf23e10",
   "metadata": {
    "ExecuteTime": {
     "end_time": "2022-09-06T07:21:04.804604Z",
     "start_time": "2022-09-06T07:21:04.757575Z"
    }
   },
   "outputs": [],
   "source": [
    "tpo_rain_albedo_line = copy.deepcopy(tpo_albedo_1mon.iloc[:, 2:4])\n",
    "aa_rain_albedo_line = copy.deepcopy(aa_albedo_1mon.iloc[:, 2:4])\n",
    "\n",
    "del_data_3sigma(tpo_rain_albedo_line['rain'])\n",
    "del_data_3sigma(tpo_rain_albedo_line['albedo-line'])\n",
    "del_data_3sigma(aa_rain_albedo_line['rain'])\n",
    "del_data_3sigma(aa_rain_albedo_line['albedo-line'])\n",
    "\n",
    "# 剔除缺测\n",
    "tpo_rain_albedo_line.dropna(axis=0, how='any', inplace=True)\n",
    "aa_rain_albedo_line.dropna(axis=0, how='any', inplace=True)\n",
    "\n",
    "# 设置一列，表示季节春夏秋冬分别为1234\n",
    "tpo_rain_albedo_line['season'] = tpo_rain_albedo_line.index\n",
    "aa_rain_albedo_line['season'] = aa_rain_albedo_line.index\n",
    "for i in range(len(tpo_rain_albedo_line['season'])):\n",
    "    if tpo_rain_albedo_line['season'].iloc[i].month in [3, 4, 5]:\n",
    "        tpo_rain_albedo_line['season'].iloc[i] = 1.0\n",
    "    elif tpo_rain_albedo_line['season'].iloc[i].month in [6, 7, 8]:\n",
    "        tpo_rain_albedo_line['season'].iloc[i] = 2.0\n",
    "    elif tpo_rain_albedo_line['season'].iloc[i].month in [9, 10, 11]:\n",
    "        tpo_rain_albedo_line['season'].iloc[i] = 3.0\n",
    "    elif tpo_rain_albedo_line['season'].iloc[i].month in [12, 1, 2]:\n",
    "        tpo_rain_albedo_line['season'].iloc[i] = 4.0\n",
    "\n",
    "for i in range(len(aa_rain_albedo_line['season'])):\n",
    "    if aa_rain_albedo_line['season'].iloc[i].month in [3, 4, 5]:\n",
    "        aa_rain_albedo_line['season'].iloc[i] = 1.0\n",
    "    elif aa_rain_albedo_line['season'].iloc[i].month in [6, 7, 8]:\n",
    "        aa_rain_albedo_line['season'].iloc[i] = 2.0\n",
    "    elif aa_rain_albedo_line['season'].iloc[i].month in [9, 10, 11]:\n",
    "        aa_rain_albedo_line['season'].iloc[i] = 3.0\n",
    "    elif aa_rain_albedo_line['season'].iloc[i].month in [12, 1, 2]:\n",
    "        aa_rain_albedo_line['season'].iloc[i] = 4.0\n",
    "\n",
    "def f_fit(x,y_fit):\n",
    "    a, b = y_fit[0], y_fit[1]\n",
    "    return a * x + b\n",
    "\n",
    "# 一元线性拟合\n",
    "tpo_line = stats.linregress(tpo_rain_albedo_line['rain'], tpo_rain_albedo_line['albedo-line'])\n",
    "aa_line = stats.linregress(aa_rain_albedo_line['rain'], aa_rain_albedo_line['albedo-line'])\n",
    "\n",
    "# 计算拟合值，绘图使用\n",
    "y_tpo = f_fit(np.arange(-10, 380, 1), tpo_line)\n",
    "y_aa = f_fit(np.arange(-10, 380, 1), aa_line)"
   ]
  },
  {
   "cell_type": "markdown",
   "id": "bc21eda9",
   "metadata": {},
   "source": [
    "## 绘图"
   ]
  },
  {
   "cell_type": "code",
   "execution_count": null,
   "id": "16607bfc",
   "metadata": {},
   "outputs": [],
   "source": [
    "# 设置字体格式\n",
    "font = {'family': 'Times New Roman',\n",
    "        #'style': 'italic',  # 修改倾斜程度\n",
    "        'weight': 'normal',  # 修改粗细\n",
    "        'color': 'black',  # 颜色\n",
    "        'size': 14,  # 字体大小\n",
    "        }  # 设置xlabel、title、text等字体设置\n",
    "\n",
    "fig = plt.figure(figsize=(10, 4), dpi=300)\n",
    "\n",
    "# # tpo\n",
    "ax2 = fig.add_subplot(1, 2, 1)\n",
    "ax2.scatter(tpo_rain_albedo_line.loc[tpo_rain_albedo_line['season'] == 1]['rain'],\n",
    "            tpo_rain_albedo_line.loc[tpo_rain_albedo_line['season'] == 1]['albedo-line'],\n",
    "            marker='o', color='none', edgecolors='#008B00', label='Spring')\n",
    "ax2.scatter(tpo_rain_albedo_line.loc[tpo_rain_albedo_line['season'] == 2]['rain'],\n",
    "            tpo_rain_albedo_line.loc[tpo_rain_albedo_line['season'] == 2]['albedo-line'],\n",
    "            marker='o', color='none', edgecolors='#FF0000', label='Summer')\n",
    "ax2.scatter(tpo_rain_albedo_line.loc[tpo_rain_albedo_line['season'] == 3]['rain'],\n",
    "            tpo_rain_albedo_line.loc[tpo_rain_albedo_line['season'] == 3]['albedo-line'],\n",
    "            marker='o', color='none', edgecolors='#FFA500', label='Autumn')\n",
    "ax2.scatter(tpo_rain_albedo_line.loc[tpo_rain_albedo_line['season'] == 4]['rain'],\n",
    "            tpo_rain_albedo_line.loc[tpo_rain_albedo_line['season'] == 4]['albedo-line'],\n",
    "            marker='o', color='none', edgecolors='#0000FF', label='Winter')\n",
    "ax2.plot(np.arange(-10, 380, 1), y_tpo, color='black')\n",
    "# 横轴\n",
    "ax2.set_xlim((-10, 380))\n",
    "ax2.set_xticks(np.arange(0, 400, 50))\n",
    "ax2.set_xticklabels(np.arange(0, 400, 50), fontdict=font)\n",
    "ax2.set_xlabel('Total monthly Precipitation (mm)', fontdict=font)\n",
    "# 纵轴\n",
    "ax2.set_ylim((-0.1, 0.1))\n",
    "ax2.set_yticks(np.arange(-0.075, 0.1, 0.025))\n",
    "ax2.set_yticklabels(['-0.075', '-0.050', '-0.025', '-0.000', '0.025', '0.050', '0.075'], fontdict=font)\n",
    "ax2.set_ylabel('Albedo difference of TPO', fontdict=font)\n",
    "ax2.text(0, 0.086, 'y=' + str(np.poly1d(tpo_line[:2]))[2:], color='black', fontdict=font)\n",
    "ax2.text(0, 0.071, 'P=' + str(round(tpo_line[3], 2)) + '   ' + r'$\\rmR^2=$' + str(round(tpo_line[2] ** 2, 2)), color='black', fontdict=font)\n",
    "ax2.text(345, -0.092, '(c)', fontdict=font)\n",
    "# 图例\n",
    "ax2.legend(loc='lower left', fontsize=8)\n",
    "\n",
    "\n",
    "# # aa\n",
    "ax3 = fig.add_subplot(1, 2, 2)\n",
    "ax3.scatter(aa_rain_albedo_line.loc[aa_rain_albedo_line['season'] == 1]['rain'], \n",
    "            aa_rain_albedo_line.loc[aa_rain_albedo_line['season'] == 1]['albedo-line'], \n",
    "            marker='o', color='none', edgecolors='#008B00', label='Spring')\n",
    "ax3.scatter(aa_rain_albedo_line.loc[aa_rain_albedo_line['season'] == 2]['rain'], \n",
    "            aa_rain_albedo_line.loc[aa_rain_albedo_line['season'] == 2]['albedo-line'], \n",
    "            marker='o', color='none', edgecolors='#FF0000', label='Summer')\n",
    "ax3.scatter(aa_rain_albedo_line.loc[aa_rain_albedo_line['season'] == 3]['rain'], \n",
    "            aa_rain_albedo_line.loc[aa_rain_albedo_line['season'] == 3]['albedo-line'], \n",
    "            marker='o', color='none', edgecolors='#FFA500', label='Autumn')\n",
    "ax3.scatter(aa_rain_albedo_line.loc[aa_rain_albedo_line['season'] == 4]['rain'], \n",
    "            aa_rain_albedo_line.loc[aa_rain_albedo_line['season'] == 4]['albedo-line'], \n",
    "            marker='o', color='none', edgecolors='#0000FF', label='Winter')\n",
    "ax3.plot(np.arange(-10, 380, 1), y_aa, color='black')\n",
    "# 横轴\n",
    "ax3.set_xlim((-10, 380))\n",
    "ax3.set_xticks(np.arange(0, 400, 50))\n",
    "ax3.set_xticklabels(np.arange(0, 400, 50), fontdict=font)\n",
    "ax3.set_xlabel(r'Total monthly Precipitation (mm)', fontdict=font)\n",
    "# 纵轴\n",
    "ax3.set_ylim((-0.24, 0.145))\n",
    "ax3.set_yticks(np.arange(-0.2, 0.125, 0.05))\n",
    "ax3.set_yticklabels(['-0.20', '-0.15', '-0.10', '-0.05', '0.00', '0.05', '0.10'], fontdict=font)\n",
    "ax3.set_ylabel('Albedo difference of SBS', fontdict=font)\n",
    "ax3.text(0, 0.118, 'y=' + str(np.poly1d(aa_line[:2]))[2:], color='black', fontdict=font)\n",
    "ax3.text(0, 0.088, 'P=' + str(round(aa_line[3], 2)) + '   ' + r'$\\rmR^2=$' + str(round(aa_line[2] ** 2, 2)), color='black', fontdict=font)\n",
    "ax3.text(345, -0.224, '(d)', fontdict=font)\n",
    "# 图例\n",
    "ax3.legend(loc='lower left', fontsize=8)\n",
    "\n",
    "# # 调整子图间距，横纵\n",
    "plt.subplots_adjust(wspace=0.25, hspace=0.)\n",
    "plt.savefig(r'C:\\Users\\NH4NO3nice\\Desktop\\2022 大创项目\\实验数据处理\\降水量与实际反照率和拟合值之差的关系.svg', bbox_inches='tight', pad_inches=0.1)"
   ]
  },
  {
   "cell_type": "markdown",
   "id": "00f6f683",
   "metadata": {},
   "source": [
    "## 反照率差值与PM10的关系"
   ]
  },
  {
   "cell_type": "code",
   "execution_count": null,
   "id": "5452bcdb",
   "metadata": {},
   "outputs": [],
   "source": [
    "tpo_PM10_albedo_line = copy.deepcopy(tpo_albedo_1mon.iloc[:, [2, 4]])\n",
    "aa_PM10_albedo_line = copy.deepcopy(aa_albedo_1mon.iloc[:, [2, 4]])\n",
    "\n",
    "# del_data_3sigma(tpo_PM10_albedo_line['PM10'])\n",
    "# del_data_3sigma(tpo_PM10_albedo_line['albedo-line'])\n",
    "# del_data_3sigma(aa_PM10_albedo_line['PM10'])\n",
    "# del_data_3sigma(aa_PM10_albedo_line['albedo-line'])\n",
    "\n",
    "# 剔除缺测\n",
    "tpo_PM10_albedo_line.dropna(axis=0, how='any', inplace=True)\n",
    "aa_PM10_albedo_line.dropna(axis=0, how='any', inplace=True)\n",
    "\n",
    "# 设置一列，表示季节春夏秋冬分别为1234\n",
    "tpo_PM10_albedo_line['season'] = tpo_PM10_albedo_line.index\n",
    "aa_PM10_albedo_line['season'] = aa_PM10_albedo_line.index\n",
    "for i in range(len(tpo_PM10_albedo_line['season'])):\n",
    "    if tpo_PM10_albedo_line['season'].iloc[i].month in [3, 4, 5]:\n",
    "        tpo_PM10_albedo_line['season'].iloc[i] = 1.0\n",
    "    elif tpo_PM10_albedo_line['season'].iloc[i].month in [6, 7, 8]:\n",
    "        tpo_PM10_albedo_line['season'].iloc[i] = 2.0\n",
    "    elif tpo_PM10_albedo_line['season'].iloc[i].month in [9, 10, 11]:\n",
    "        tpo_PM10_albedo_line['season'].iloc[i] = 3.0\n",
    "    elif tpo_PM10_albedo_line['season'].iloc[i].month in [12, 1, 2]:\n",
    "        tpo_PM10_albedo_line['season'].iloc[i] = 4.0\n",
    "\n",
    "for i in range(len(aa_PM10_albedo_line['season'])):\n",
    "    if aa_PM10_albedo_line['season'].iloc[i].month in [3, 4, 5]:\n",
    "        aa_PM10_albedo_line['season'].iloc[i] = 1.0\n",
    "    elif aa_PM10_albedo_line['season'].iloc[i].month in [6, 7, 8]:\n",
    "        aa_PM10_albedo_line['season'].iloc[i] = 2.0\n",
    "    elif aa_PM10_albedo_line['season'].iloc[i].month in [9, 10, 11]:\n",
    "        aa_PM10_albedo_line['season'].iloc[i] = 3.0\n",
    "    elif aa_PM10_albedo_line['season'].iloc[i].month in [12, 1, 2]:\n",
    "        aa_PM10_albedo_line['season'].iloc[i] = 4.0\n",
    "\n",
    "def f_fit(x,y_fit):\n",
    "    a, b = y_fit[0], y_fit[1]\n",
    "    return a * x + b\n",
    "\n",
    "# 一元线性拟合\n",
    "tpo_line = stats.linregress(tpo_PM10_albedo_line['PM10'], tpo_PM10_albedo_line['albedo-line'])\n",
    "aa_line = stats.linregress(aa_PM10_albedo_line['PM10'], aa_PM10_albedo_line['albedo-line'])\n",
    "\n",
    "# 计算拟合值，绘图使用\n",
    "y_tpo = f_fit(np.arange(10, 141, 1), tpo_line)\n",
    "y_aa = f_fit(np.arange(10, 141, 1), aa_line)"
   ]
  },
  {
   "cell_type": "markdown",
   "id": "7141a6a3",
   "metadata": {},
   "source": [
    "## 绘图"
   ]
  },
  {
   "cell_type": "code",
   "execution_count": null,
   "id": "c49a024f",
   "metadata": {},
   "outputs": [],
   "source": [
    "# 设置字体格式\n",
    "font = {'family': 'Times New Roman',\n",
    "        #'style': 'italic',  # 修改倾斜程度\n",
    "        'weight': 'normal',  # 修改粗细\n",
    "        'color': 'black',  # 颜色\n",
    "        'size': 14,  # 字体大小\n",
    "        }  # 设置xlabel、title、text等字体设置\n",
    "\n",
    "fig = plt.figure(figsize=(10, 4), dpi=300)\n",
    "\n",
    "# # tpo\n",
    "ax2 = fig.add_subplot(1, 2, 1)\n",
    "ax2.scatter(tpo_PM10_albedo_line.loc[tpo_PM10_albedo_line['season'] == 1]['PM10'],\n",
    "            tpo_PM10_albedo_line.loc[tpo_PM10_albedo_line['season'] == 1]['albedo-line'],\n",
    "            marker='o', color='none', edgecolors='#008B00', label='Spring')\n",
    "ax2.scatter(tpo_PM10_albedo_line.loc[tpo_PM10_albedo_line['season'] == 2]['PM10'],\n",
    "            tpo_PM10_albedo_line.loc[tpo_PM10_albedo_line['season'] == 2]['albedo-line'],\n",
    "            marker='o', color='none', edgecolors='#FF0000', label='Summer')\n",
    "ax2.scatter(tpo_PM10_albedo_line.loc[tpo_PM10_albedo_line['season'] == 3]['PM10'],\n",
    "            tpo_PM10_albedo_line.loc[tpo_PM10_albedo_line['season'] == 3]['albedo-line'],\n",
    "            marker='o', color='none', edgecolors='#FFA500', label='Autumn')\n",
    "ax2.scatter(tpo_PM10_albedo_line.loc[tpo_PM10_albedo_line['season'] == 4]['PM10'],\n",
    "            tpo_PM10_albedo_line.loc[tpo_PM10_albedo_line['season'] == 4]['albedo-line'],\n",
    "            marker='o', color='none', edgecolors='#0000FF', label='Winter')\n",
    "ax2.plot(np.arange(10, 141, 1), y_tpo, color='black')\n",
    "# 横轴\n",
    "ax2.set_xlim((30, 130))\n",
    "ax2.set_xticks(np.arange(40, 130, 20))\n",
    "ax2.set_xticklabels(np.arange(40, 130, 20), fontdict=font)\n",
    "ax2.set_xlabel(r'Average monthly $\\rm PM_{10}(\\mu g·m^{-3})$', fontdict=font)\n",
    "# 纵轴\n",
    "ax2.set_ylim((-0.125, 0.1))\n",
    "ax2.set_yticks(np.arange(-0.1, 0.1, 0.025))\n",
    "ax2.set_yticklabels(['-0.100', '-0.075', '-0.050', '-0.025', '-0.000', '0.025', '0.050', '0.075'], fontdict=font)\n",
    "ax2.set_ylabel('Albedo difference of TPO', fontdict=font)\n",
    "ax2.text(32, 0.084, 'y=' + str(np.poly1d(tpo_line[:2]))[2:], color='black', fontdict=font)\n",
    "ax2.text(32, 0.068, 'P=' + str(round(tpo_line[3], 2)) + '   ' + r'$\\rmR^2=$' + str(round(tpo_line[2] ** 2, 5)), color='black', fontdict=font)\n",
    "ax2.text(121, -0.116, '(a)', fontdict=font)\n",
    "# 图例\n",
    "ax2.legend(loc='lower left', fontsize=8)\n",
    "\n",
    "\n",
    "# # aa\n",
    "ax3 = fig.add_subplot(1, 2, 2)\n",
    "ax3.scatter(aa_PM10_albedo_line.loc[aa_PM10_albedo_line['season'] == 1]['PM10'], \n",
    "            aa_PM10_albedo_line.loc[aa_PM10_albedo_line['season'] == 1]['albedo-line'], \n",
    "            marker='o', color='none', edgecolors='#008B00', label='Spring')\n",
    "ax3.scatter(aa_PM10_albedo_line.loc[aa_PM10_albedo_line['season'] == 2]['PM10'], \n",
    "            aa_PM10_albedo_line.loc[aa_PM10_albedo_line['season'] == 2]['albedo-line'], \n",
    "            marker='o', color='none', edgecolors='#FF0000', label='Summer')\n",
    "ax3.scatter(aa_PM10_albedo_line.loc[aa_PM10_albedo_line['season'] == 3]['PM10'], \n",
    "            aa_PM10_albedo_line.loc[aa_PM10_albedo_line['season'] == 3]['albedo-line'], \n",
    "            marker='o', color='none', edgecolors='#FFA500', label='Autumn')\n",
    "ax3.scatter(aa_PM10_albedo_line.loc[aa_PM10_albedo_line['season'] == 4]['PM10'], \n",
    "            aa_PM10_albedo_line.loc[aa_PM10_albedo_line['season'] == 4]['albedo-line'], \n",
    "            marker='o', color='none', edgecolors='#0000FF', label='Winter')\n",
    "ax3.plot(np.arange(10, 141, 1), y_aa, color='black')\n",
    "# 横轴\n",
    "ax3.set_xlim((30, 130))\n",
    "ax3.set_xticks(np.arange(40, 130, 20))\n",
    "ax3.set_xticklabels(np.arange(40, 130, 20), fontdict=font)\n",
    "ax3.set_xlabel(r'Average monthly $\\rm PM_{10}(\\mu g·m^{-3})$', fontdict=font)\n",
    "# 纵轴\n",
    "ax3.set_ylim((-0.22, 0.15))\n",
    "ax3.set_yticks(np.arange(-0.2, 0.15, 0.05))\n",
    "ax3.set_yticklabels(['-0.20', '-0.15', '-0.10', '-0.05', '-0.00', '0.05', '0.10'], fontdict=font)\n",
    "ax3.set_ylabel('Albedo difference of SBS', fontdict=font)\n",
    "ax3.text(32, 0.125, 'y=' + str(np.poly1d(aa_line[:2]))[2:], color='black', fontdict=font)\n",
    "ax3.text(32, 0.098, 'P < 0.01' + '   ' + r'$\\rmR^2=$' + str(round(aa_line[2] ** 2, 2)), color='black', fontdict=font)\n",
    "ax3.text(121, -0.204, '(b)', fontdict=font)\n",
    "# 图例\n",
    "ax3.legend(loc='lower left', fontsize=8)\n",
    "\n",
    "# # 调整子图间距，横纵\n",
    "plt.subplots_adjust(wspace=0.25, hspace=0.)\n",
    "plt.savefig(r'C:\\Users\\NH4NO3nice\\Desktop\\2022 大创项目\\实验数据处理\\pm10与实际反照率和拟合值之差的关系.svg', bbox_inches='tight', pad_inches=0.1)"
   ]
  }
 ],
 "metadata": {
  "kernelspec": {
   "display_name": "Python 3.8.8 ('base')",
   "language": "python",
   "name": "python3"
  },
  "language_info": {
   "codemirror_mode": {
    "name": "ipython",
    "version": 3
   },
   "file_extension": ".py",
   "mimetype": "text/x-python",
   "name": "python",
   "nbconvert_exporter": "python",
   "pygments_lexer": "ipython3",
   "version": "3.8.8"
  },
  "toc": {
   "base_numbering": 1,
   "nav_menu": {},
   "number_sections": true,
   "sideBar": true,
   "skip_h1_title": false,
   "title_cell": "Table of Contents",
   "title_sidebar": "Contents",
   "toc_cell": false,
   "toc_position": {},
   "toc_section_display": true,
   "toc_window_display": false
  },
  "varInspector": {
   "cols": {
    "lenName": 16,
    "lenType": 16,
    "lenVar": 40
   },
   "kernels_config": {
    "python": {
     "delete_cmd_postfix": "",
     "delete_cmd_prefix": "del ",
     "library": "var_list.py",
     "varRefreshCmd": "print(var_dic_list())"
    },
    "r": {
     "delete_cmd_postfix": ") ",
     "delete_cmd_prefix": "rm(",
     "library": "var_list.r",
     "varRefreshCmd": "cat(var_dic_list()) "
    }
   },
   "types_to_exclude": [
    "module",
    "function",
    "builtin_function_or_method",
    "instance",
    "_Feature"
   ],
   "window_display": false
  },
  "vp": {
   "base_numbering": 1,
   "nav_menu": {},
   "number_sections": true,
   "sideBar": true,
   "title_cell": "VisualPython",
   "title_sidebar": "VisualPython",
   "vpPosition": {
    "height": "calc(100% - 180px)",
    "right": "10px",
    "top": "110px",
    "width": "50%"
   },
   "vp_cell": false,
   "vp_section_display": true,
   "vp_window_display": false
  },
  "vscode": {
   "interpreter": {
    "hash": "1f66ea4471fcb71777712aae2a4f2f2ee75375cae091625b54f209e697dcf66a"
   }
  }
 },
 "nbformat": 4,
 "nbformat_minor": 5
}
